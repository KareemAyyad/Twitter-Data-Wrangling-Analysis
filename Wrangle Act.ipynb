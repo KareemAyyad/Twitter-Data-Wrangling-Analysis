{
 "cells": [
  {
   "cell_type": "markdown",
   "metadata": {},
   "source": [
    "# Project: Data Wrangling, Analysis, and Visualization\n",
    "## Dataset: Twitter Archive: WeRateDogs\n",
    "\n",
    "### Table of Contents\n",
    "<ul>\n",
    "<li><a href=\"#intro\">Introduction</a></li>\n",
    "<li><a href=\"#gathering\">Data Gathering</a></li>\n",
    "<li><a href=\"#assessing\">Assessing</a></li>\n",
    "<li><a href=\"#issues\">Issues Found with Data</a></li>\n",
    "\n",
    "<li><a href=\"#cleaning\">Data Cleaning</a></li>\n",
    "<li><a href=\"#eda\">Storing Data & Exploratory Data Analysis (EDA)</a></li>\n",
    "<li><a href=\"#limitations\">Limitations</a></li>\n",
    "\n",
    "</ul>"
   ]
  },
  {
   "cell_type": "markdown",
   "metadata": {},
   "source": [
    "<a id='intro'></a>\n",
    "## Introduction"
   ]
  },
  {
   "cell_type": "markdown",
   "metadata": {},
   "source": [
    "##### There are **three datasets** to gather for this project.\n",
    "1) An \"Enhanced Archive\" which contains some of the tweets of WeRateDogs Account, with some added information. This is already available enclosed in the folder accompanying this notebook.\n",
    "\n",
    "2) An Image Predictions file to be downloaded programmatically. This file is the result of a dog-breed classifier model that classifies dog breeds in each tweet's images.\n",
    "\n",
    "3) \"Tweet_JSON\" which is a dataset that will be created in this project, by querying the Twitter API to download all tweets of @rate_dogs account into a JSON file, and then load it into this notebook."
   ]
  },
  {
   "cell_type": "markdown",
   "metadata": {},
   "source": [
    "**The objective of the project is to:**\n",
    " - Gather this Data.\n",
    " - Assess it for Quality and Tidiness.\n",
    " - Clean it.\n",
    " - Analyze it.\n",
    " - Visualize and Communicate Findings."
   ]
  },
  {
   "cell_type": "code",
   "execution_count": 1,
   "metadata": {},
   "outputs": [],
   "source": [
    "import pandas as pd\n",
    "import numpy as np\n",
    "import matplotlib.pyplot as plt\n",
    "import seaborn as sns\n",
    "import requests\n",
    "\n",
    "%matplotlib inline"
   ]
  },
  {
   "cell_type": "markdown",
   "metadata": {},
   "source": [
    "<a id='gathering'></a>\n",
    "## Data Gathering"
   ]
  },
  {
   "cell_type": "markdown",
   "metadata": {},
   "source": [
    "Full Tweet Data from Twitter API - Code block below will query Twitter API for this data and save it as JSON dumped into .txt file.\n",
    "\n",
    "Enhanced Archived Tweet Data Provided by Course.\n",
    "\n",
    "Image Predictions Dataset - to be downloaded from Udacity servers and is .tsv format.\n"
   ]
  },
  {
   "cell_type": "code",
   "execution_count": 2,
   "metadata": {
    "scrolled": true
   },
   "outputs": [
    {
     "data": {
      "text/plain": [
       "'import tweepy\\nfrom tweepy import OAuthHandler\\nimport json\\nfrom timeit import default_timer as timer\\n\\n# Keys below are hidden to comply with Twitter\\'s Policy.\\n\\nBearer_Token = \"AAAAAAAAAAAAAAAAAAAAAFW0NgEAAAAAR2VKFW5zWZ4qE4dMOa%2BxCJKrXaM%3D1FaPZLOFlruGPevthWjCNEJ7a8Ta57TXZejPLGDyC7mrFoneOW\"\\n\\nconsumer_key = \\'lNdhvNCjIZa27qtISIbnMorUE\\'\\nconsumer_secret = \\'W0cv4AxLvltJt2woI9N7l8pyCAw9qWwg7DJ86jonSB3js0df0y\\'\\naccess_token = \\'824273762778484736-ilay3CVb7TOC7JoI5NKRl7T4C2urJM9\\'\\naccess_secret = \\'b4ao3oy0KDKkG8cvi6Mox47uqjjmj2T6Y0mdcMNxaYngv\\'\\n\\nauth = tweepy.OAuthHandler(consumer_key, consumer_secret)\\nauth.set_access_token(access_token, access_secret)\\n\\napi = tweepy.API(auth, wait_on_rate_limit=True)\\n\\n\\ntweet_df = pd.read_csv(\\'twitter-archive-enhanced.csv\\') # We read-in the twitter archive\\n\\t\\t\\t\\t\\t\\t\\t\\t\\t\\t\\t\\t\\t   # We do this because we want to loop on the DataFrame to get the Tweet ID, to query the API using Tweepy\\n\\ntweet_ids = tweet_df.tweet_id.values\\nlen(tweet_ids)\\n\\n# Query Twitter\\'s API\\n# For each Tweet ID, we get a JSON response back. Save that to .txt file, with every JSON response on a line of its own.\\n# We time this for-loop to understand how long it took, and have a dictionary that shows which Tweet IDs failed to return a valid response since some of them may have been deleted.\\n# The Try-Except Block is there so that when a query fails due to tweet being deleted or another reason, it does not interrupt the entire process.\\ncount = 0\\nfails_dict = {}\\nstart = timer()\\n# Save each tweet\\'s returned JSON as a new line in a .txt file\\nwith open(\\'tweet_json.txt\\', \\'w\\') as outfile:\\n    # This for-loop will take 30 minutes because of Twitter\\'s Rate Limit.\\n    for tweet_id in tweet_ids:\\n        count += 1\\n        print(str(count) + \": \" + str(tweet_id))\\n        try:\\n            tweet = api.get_status(tweet_id, tweet_mode=\\'extended\\')\\n            print(\"Success\")\\n            json.dump(tweet._json, outfile)\\n            outfile.write(\\'\\n\\')\\n        except tweepy.TweepError as e:\\n            print(\"Fail\")\\n            fails_dict[tweet_id] = e\\n            pass\\n\\nend = timer()\\nprint(end - start)\\nprint(fails_dict)\\n'"
      ]
     },
     "execution_count": 2,
     "metadata": {},
     "output_type": "execute_result"
    }
   ],
   "source": [
    "\"\"\"import tweepy\n",
    "from tweepy import OAuthHandler\n",
    "import json\n",
    "from timeit import default_timer as timer\n",
    "\n",
    "# Keys below are hidden to comply with Twitter's Policy.\n",
    "\n",
    "Bearer_Token = \"HIDDEN\"\n",
    "\n",
    "consumer_key = 'HIDDEN'\n",
    "consumer_secret = 'HIDDEN'\n",
    "access_token = 'HIDDEN'\n",
    "access_secret = 'HIDDEN'\n",
    "\n",
    "auth = tweepy.OAuthHandler(consumer_key, consumer_secret)\n",
    "auth.set_access_token(access_token, access_secret)\n",
    "\n",
    "api = tweepy.API(auth, wait_on_rate_limit=True)\n",
    "\n",
    "\n",
    "tweet_df = pd.read_csv('twitter-archive-enhanced.csv') # We read-in the twitter archive\n",
    "\t\t\t\t\t\t\t\t\t\t\t\t\t   # We do this because we want to loop on the DataFrame to get the Tweet ID, to query the API using Tweepy\n",
    "\n",
    "tweet_ids = tweet_df.tweet_id.values\n",
    "len(tweet_ids)\n",
    "\n",
    "# Query Twitter's API\n",
    "# For each Tweet ID, we get a JSON response back. Save that to .txt file, with every JSON response on a line of its own.\n",
    "# We time this for-loop to understand how long it took, and have a dictionary that shows which Tweet IDs failed to return a valid response since some of them may have been deleted.\n",
    "# The Try-Except Block is there so that when a query fails due to tweet being deleted or another reason, it does not interrupt the entire process.\n",
    "count = 0\n",
    "fails_dict = {}\n",
    "start = timer()\n",
    "# Save each tweet's returned JSON as a new line in a .txt file\n",
    "with open('tweet_json.txt', 'w') as outfile:\n",
    "    # This for-loop will take 30 minutes because of Twitter's Rate Limit.\n",
    "    for tweet_id in tweet_ids:\n",
    "        count += 1\n",
    "        print(str(count) + \": \" + str(tweet_id))\n",
    "        try:\n",
    "            tweet = api.get_status(tweet_id, tweet_mode='extended')\n",
    "            print(\"Success\")\n",
    "            json.dump(tweet._json, outfile)\n",
    "            outfile.write('\\n')\n",
    "        except tweepy.TweepError as e:\n",
    "            print(\"Fail\")\n",
    "            fails_dict[tweet_id] = e\n",
    "            pass\n",
    "\n",
    "end = timer()\n",
    "print(end - start)\n",
    "print(fails_dict)\n",
    "\"\"\""
   ]
  },
  {
   "cell_type": "code",
   "execution_count": 3,
   "metadata": {
    "scrolled": false
   },
   "outputs": [
    {
     "name": "stdout",
     "output_type": "stream",
     "text": [
      "Image Predictions DataFrame Below\n"
     ]
    },
    {
     "data": {
      "text/html": [
       "<div>\n",
       "<style scoped>\n",
       "    .dataframe tbody tr th:only-of-type {\n",
       "        vertical-align: middle;\n",
       "    }\n",
       "\n",
       "    .dataframe tbody tr th {\n",
       "        vertical-align: top;\n",
       "    }\n",
       "\n",
       "    .dataframe thead th {\n",
       "        text-align: right;\n",
       "    }\n",
       "</style>\n",
       "<table border=\"1\" class=\"dataframe\">\n",
       "  <thead>\n",
       "    <tr style=\"text-align: right;\">\n",
       "      <th></th>\n",
       "      <th>tweet_id</th>\n",
       "      <th>jpg_url</th>\n",
       "      <th>img_num</th>\n",
       "      <th>p1</th>\n",
       "      <th>p1_conf</th>\n",
       "      <th>p1_dog</th>\n",
       "      <th>p2</th>\n",
       "      <th>p2_conf</th>\n",
       "      <th>p2_dog</th>\n",
       "      <th>p3</th>\n",
       "      <th>p3_conf</th>\n",
       "      <th>p3_dog</th>\n",
       "    </tr>\n",
       "  </thead>\n",
       "  <tbody>\n",
       "    <tr>\n",
       "      <th>0</th>\n",
       "      <td>666020888022790149</td>\n",
       "      <td>https://pbs.twimg.com/media/CT4udn0WwAA0aMy.jpg</td>\n",
       "      <td>1</td>\n",
       "      <td>Welsh_springer_spaniel</td>\n",
       "      <td>0.465074</td>\n",
       "      <td>True</td>\n",
       "      <td>collie</td>\n",
       "      <td>0.156665</td>\n",
       "      <td>True</td>\n",
       "      <td>Shetland_sheepdog</td>\n",
       "      <td>0.061428</td>\n",
       "      <td>True</td>\n",
       "    </tr>\n",
       "    <tr>\n",
       "      <th>1</th>\n",
       "      <td>666029285002620928</td>\n",
       "      <td>https://pbs.twimg.com/media/CT42GRgUYAA5iDo.jpg</td>\n",
       "      <td>1</td>\n",
       "      <td>redbone</td>\n",
       "      <td>0.506826</td>\n",
       "      <td>True</td>\n",
       "      <td>miniature_pinscher</td>\n",
       "      <td>0.074192</td>\n",
       "      <td>True</td>\n",
       "      <td>Rhodesian_ridgeback</td>\n",
       "      <td>0.072010</td>\n",
       "      <td>True</td>\n",
       "    </tr>\n",
       "  </tbody>\n",
       "</table>\n",
       "</div>"
      ],
      "text/plain": [
       "             tweet_id                                          jpg_url  \\\n",
       "0  666020888022790149  https://pbs.twimg.com/media/CT4udn0WwAA0aMy.jpg   \n",
       "1  666029285002620928  https://pbs.twimg.com/media/CT42GRgUYAA5iDo.jpg   \n",
       "\n",
       "   img_num                      p1   p1_conf  p1_dog                  p2  \\\n",
       "0        1  Welsh_springer_spaniel  0.465074    True              collie   \n",
       "1        1                 redbone  0.506826    True  miniature_pinscher   \n",
       "\n",
       "    p2_conf  p2_dog                   p3   p3_conf  p3_dog  \n",
       "0  0.156665    True    Shetland_sheepdog  0.061428    True  \n",
       "1  0.074192    True  Rhodesian_ridgeback  0.072010    True  "
      ]
     },
     "metadata": {},
     "output_type": "display_data"
    },
    {
     "name": "stdout",
     "output_type": "stream",
     "text": [
      "\n",
      " \"Enhanced Archive of Tweets\" DataFrame Below\n"
     ]
    },
    {
     "data": {
      "text/html": [
       "<div>\n",
       "<style scoped>\n",
       "    .dataframe tbody tr th:only-of-type {\n",
       "        vertical-align: middle;\n",
       "    }\n",
       "\n",
       "    .dataframe tbody tr th {\n",
       "        vertical-align: top;\n",
       "    }\n",
       "\n",
       "    .dataframe thead th {\n",
       "        text-align: right;\n",
       "    }\n",
       "</style>\n",
       "<table border=\"1\" class=\"dataframe\">\n",
       "  <thead>\n",
       "    <tr style=\"text-align: right;\">\n",
       "      <th></th>\n",
       "      <th>tweet_id</th>\n",
       "      <th>in_reply_to_status_id</th>\n",
       "      <th>in_reply_to_user_id</th>\n",
       "      <th>timestamp</th>\n",
       "      <th>source</th>\n",
       "      <th>text</th>\n",
       "      <th>retweeted_status_id</th>\n",
       "      <th>retweeted_status_user_id</th>\n",
       "      <th>retweeted_status_timestamp</th>\n",
       "      <th>expanded_urls</th>\n",
       "      <th>rating_numerator</th>\n",
       "      <th>rating_denominator</th>\n",
       "      <th>name</th>\n",
       "      <th>doggo</th>\n",
       "      <th>floofer</th>\n",
       "      <th>pupper</th>\n",
       "      <th>puppo</th>\n",
       "    </tr>\n",
       "  </thead>\n",
       "  <tbody>\n",
       "    <tr>\n",
       "      <th>0</th>\n",
       "      <td>892420643555336193</td>\n",
       "      <td>NaN</td>\n",
       "      <td>NaN</td>\n",
       "      <td>2017-08-01 16:23:56 +0000</td>\n",
       "      <td>&lt;a href=\"http://twitter.com/download/iphone\" r...</td>\n",
       "      <td>This is Phineas. He's a mystical boy. Only eve...</td>\n",
       "      <td>NaN</td>\n",
       "      <td>NaN</td>\n",
       "      <td>NaN</td>\n",
       "      <td>https://twitter.com/dog_rates/status/892420643...</td>\n",
       "      <td>13</td>\n",
       "      <td>10</td>\n",
       "      <td>Phineas</td>\n",
       "      <td>None</td>\n",
       "      <td>None</td>\n",
       "      <td>None</td>\n",
       "      <td>None</td>\n",
       "    </tr>\n",
       "    <tr>\n",
       "      <th>1</th>\n",
       "      <td>892177421306343426</td>\n",
       "      <td>NaN</td>\n",
       "      <td>NaN</td>\n",
       "      <td>2017-08-01 00:17:27 +0000</td>\n",
       "      <td>&lt;a href=\"http://twitter.com/download/iphone\" r...</td>\n",
       "      <td>This is Tilly. She's just checking pup on you....</td>\n",
       "      <td>NaN</td>\n",
       "      <td>NaN</td>\n",
       "      <td>NaN</td>\n",
       "      <td>https://twitter.com/dog_rates/status/892177421...</td>\n",
       "      <td>13</td>\n",
       "      <td>10</td>\n",
       "      <td>Tilly</td>\n",
       "      <td>None</td>\n",
       "      <td>None</td>\n",
       "      <td>None</td>\n",
       "      <td>None</td>\n",
       "    </tr>\n",
       "  </tbody>\n",
       "</table>\n",
       "</div>"
      ],
      "text/plain": [
       "             tweet_id  in_reply_to_status_id  in_reply_to_user_id  \\\n",
       "0  892420643555336193                    NaN                  NaN   \n",
       "1  892177421306343426                    NaN                  NaN   \n",
       "\n",
       "                   timestamp  \\\n",
       "0  2017-08-01 16:23:56 +0000   \n",
       "1  2017-08-01 00:17:27 +0000   \n",
       "\n",
       "                                              source  \\\n",
       "0  <a href=\"http://twitter.com/download/iphone\" r...   \n",
       "1  <a href=\"http://twitter.com/download/iphone\" r...   \n",
       "\n",
       "                                                text  retweeted_status_id  \\\n",
       "0  This is Phineas. He's a mystical boy. Only eve...                  NaN   \n",
       "1  This is Tilly. She's just checking pup on you....                  NaN   \n",
       "\n",
       "   retweeted_status_user_id retweeted_status_timestamp  \\\n",
       "0                       NaN                        NaN   \n",
       "1                       NaN                        NaN   \n",
       "\n",
       "                                       expanded_urls  rating_numerator  \\\n",
       "0  https://twitter.com/dog_rates/status/892420643...                13   \n",
       "1  https://twitter.com/dog_rates/status/892177421...                13   \n",
       "\n",
       "   rating_denominator     name doggo floofer pupper puppo  \n",
       "0                  10  Phineas  None    None   None  None  \n",
       "1                  10    Tilly  None    None   None  None  "
      ]
     },
     "metadata": {},
     "output_type": "display_data"
    },
    {
     "name": "stdout",
     "output_type": "stream",
     "text": [
      "\n",
      " Data queried through Twitter API\n"
     ]
    },
    {
     "data": {
      "text/html": [
       "<div>\n",
       "<style scoped>\n",
       "    .dataframe tbody tr th:only-of-type {\n",
       "        vertical-align: middle;\n",
       "    }\n",
       "\n",
       "    .dataframe tbody tr th {\n",
       "        vertical-align: top;\n",
       "    }\n",
       "\n",
       "    .dataframe thead th {\n",
       "        text-align: right;\n",
       "    }\n",
       "</style>\n",
       "<table border=\"1\" class=\"dataframe\">\n",
       "  <thead>\n",
       "    <tr style=\"text-align: right;\">\n",
       "      <th></th>\n",
       "      <th>created_at</th>\n",
       "      <th>id</th>\n",
       "      <th>id_str</th>\n",
       "      <th>full_text</th>\n",
       "      <th>truncated</th>\n",
       "      <th>display_text_range</th>\n",
       "      <th>entities</th>\n",
       "      <th>extended_entities</th>\n",
       "      <th>source</th>\n",
       "      <th>in_reply_to_status_id</th>\n",
       "      <th>...</th>\n",
       "      <th>favorited</th>\n",
       "      <th>retweeted</th>\n",
       "      <th>possibly_sensitive</th>\n",
       "      <th>possibly_sensitive_appealable</th>\n",
       "      <th>lang</th>\n",
       "      <th>retweeted_status</th>\n",
       "      <th>quoted_status_id</th>\n",
       "      <th>quoted_status_id_str</th>\n",
       "      <th>quoted_status_permalink</th>\n",
       "      <th>quoted_status</th>\n",
       "    </tr>\n",
       "  </thead>\n",
       "  <tbody>\n",
       "    <tr>\n",
       "      <th>0</th>\n",
       "      <td>2017-08-01 16:23:56+00:00</td>\n",
       "      <td>892420643555336193</td>\n",
       "      <td>892420643555336192</td>\n",
       "      <td>This is Phineas. He's a mystical boy. Only eve...</td>\n",
       "      <td>False</td>\n",
       "      <td>[0, 85]</td>\n",
       "      <td>{'hashtags': [], 'symbols': [], 'user_mentions...</td>\n",
       "      <td>{'media': [{'id': 892420639486877696, 'id_str'...</td>\n",
       "      <td>&lt;a href=\"http://twitter.com/download/iphone\" r...</td>\n",
       "      <td>NaN</td>\n",
       "      <td>...</td>\n",
       "      <td>False</td>\n",
       "      <td>False</td>\n",
       "      <td>0.0</td>\n",
       "      <td>0.0</td>\n",
       "      <td>en</td>\n",
       "      <td>NaN</td>\n",
       "      <td>NaN</td>\n",
       "      <td>NaN</td>\n",
       "      <td>NaN</td>\n",
       "      <td>NaN</td>\n",
       "    </tr>\n",
       "    <tr>\n",
       "      <th>1</th>\n",
       "      <td>2017-08-01 00:17:27+00:00</td>\n",
       "      <td>892177421306343426</td>\n",
       "      <td>892177421306343424</td>\n",
       "      <td>This is Tilly. She's just checking pup on you....</td>\n",
       "      <td>False</td>\n",
       "      <td>[0, 138]</td>\n",
       "      <td>{'hashtags': [], 'symbols': [], 'user_mentions...</td>\n",
       "      <td>{'media': [{'id': 892177413194625024, 'id_str'...</td>\n",
       "      <td>&lt;a href=\"http://twitter.com/download/iphone\" r...</td>\n",
       "      <td>NaN</td>\n",
       "      <td>...</td>\n",
       "      <td>False</td>\n",
       "      <td>False</td>\n",
       "      <td>0.0</td>\n",
       "      <td>0.0</td>\n",
       "      <td>en</td>\n",
       "      <td>NaN</td>\n",
       "      <td>NaN</td>\n",
       "      <td>NaN</td>\n",
       "      <td>NaN</td>\n",
       "      <td>NaN</td>\n",
       "    </tr>\n",
       "  </tbody>\n",
       "</table>\n",
       "<p>2 rows × 32 columns</p>\n",
       "</div>"
      ],
      "text/plain": [
       "                 created_at                  id              id_str  \\\n",
       "0 2017-08-01 16:23:56+00:00  892420643555336193  892420643555336192   \n",
       "1 2017-08-01 00:17:27+00:00  892177421306343426  892177421306343424   \n",
       "\n",
       "                                           full_text  truncated  \\\n",
       "0  This is Phineas. He's a mystical boy. Only eve...      False   \n",
       "1  This is Tilly. She's just checking pup on you....      False   \n",
       "\n",
       "  display_text_range                                           entities  \\\n",
       "0            [0, 85]  {'hashtags': [], 'symbols': [], 'user_mentions...   \n",
       "1           [0, 138]  {'hashtags': [], 'symbols': [], 'user_mentions...   \n",
       "\n",
       "                                   extended_entities  \\\n",
       "0  {'media': [{'id': 892420639486877696, 'id_str'...   \n",
       "1  {'media': [{'id': 892177413194625024, 'id_str'...   \n",
       "\n",
       "                                              source  in_reply_to_status_id  \\\n",
       "0  <a href=\"http://twitter.com/download/iphone\" r...                    NaN   \n",
       "1  <a href=\"http://twitter.com/download/iphone\" r...                    NaN   \n",
       "\n",
       "   ...  favorited  retweeted  possibly_sensitive  \\\n",
       "0  ...      False      False                 0.0   \n",
       "1  ...      False      False                 0.0   \n",
       "\n",
       "  possibly_sensitive_appealable lang  retweeted_status  quoted_status_id  \\\n",
       "0                           0.0   en               NaN               NaN   \n",
       "1                           0.0   en               NaN               NaN   \n",
       "\n",
       "  quoted_status_id_str  quoted_status_permalink  quoted_status  \n",
       "0                  NaN                      NaN            NaN  \n",
       "1                  NaN                      NaN            NaN  \n",
       "\n",
       "[2 rows x 32 columns]"
      ]
     },
     "metadata": {},
     "output_type": "display_data"
    }
   ],
   "source": [
    "# We load and display each of the files below in one cell\n",
    "response = requests.get('https://d17h27t6h515a5.cloudfront.net/topher/2017/August/599fd2ad_image-predictions/image-predictions.tsv')\n",
    "with open('image-predictions.tsv', mode ='wb') as file:\n",
    "    file.write(response.content)\n",
    "\n",
    "df_predictions = pd.read_csv('image-predictions.tsv', sep='\\t')\n",
    "df_api = pd.read_json('tweet_json.txt', lines=True)\n",
    "df_archive = pd.read_csv('twitter-archive-enhanced.csv')\n",
    "\n",
    "print('Image Predictions DataFrame Below')\n",
    "display(df_predictions.head(2))\n",
    "\n",
    "print('\\n \"Enhanced Archive of Tweets\" DataFrame Below')\n",
    "display(df_archive.head(2))\n",
    "\n",
    "print('\\n Data queried through Twitter API')\n",
    "display(df_api.head(2))"
   ]
  },
  {
   "cell_type": "markdown",
   "metadata": {},
   "source": [
    "<a id='assessing'></a>\n",
    "## Assessing Data"
   ]
  },
  {
   "cell_type": "code",
   "execution_count": 4,
   "metadata": {},
   "outputs": [
    {
     "name": "stdout",
     "output_type": "stream",
     "text": [
      "Image Predictions - Info \n",
      "\n",
      "<class 'pandas.core.frame.DataFrame'>\n",
      "RangeIndex: 2075 entries, 0 to 2074\n",
      "Data columns (total 12 columns):\n",
      " #   Column    Non-Null Count  Dtype  \n",
      "---  ------    --------------  -----  \n",
      " 0   tweet_id  2075 non-null   int64  \n",
      " 1   jpg_url   2075 non-null   object \n",
      " 2   img_num   2075 non-null   int64  \n",
      " 3   p1        2075 non-null   object \n",
      " 4   p1_conf   2075 non-null   float64\n",
      " 5   p1_dog    2075 non-null   bool   \n",
      " 6   p2        2075 non-null   object \n",
      " 7   p2_conf   2075 non-null   float64\n",
      " 8   p2_dog    2075 non-null   bool   \n",
      " 9   p3        2075 non-null   object \n",
      " 10  p3_conf   2075 non-null   float64\n",
      " 11  p3_dog    2075 non-null   bool   \n",
      "dtypes: bool(3), float64(3), int64(2), object(4)\n",
      "memory usage: 152.1+ KB\n"
     ]
    },
    {
     "data": {
      "text/plain": [
       "None"
      ]
     },
     "metadata": {},
     "output_type": "display_data"
    },
    {
     "name": "stdout",
     "output_type": "stream",
     "text": [
      "\"Enhanced Archive of Tweets\" - Info \n",
      "\n",
      "<class 'pandas.core.frame.DataFrame'>\n",
      "RangeIndex: 2356 entries, 0 to 2355\n",
      "Data columns (total 17 columns):\n",
      " #   Column                      Non-Null Count  Dtype  \n",
      "---  ------                      --------------  -----  \n",
      " 0   tweet_id                    2356 non-null   int64  \n",
      " 1   in_reply_to_status_id       78 non-null     float64\n",
      " 2   in_reply_to_user_id         78 non-null     float64\n",
      " 3   timestamp                   2356 non-null   object \n",
      " 4   source                      2356 non-null   object \n",
      " 5   text                        2356 non-null   object \n",
      " 6   retweeted_status_id         181 non-null    float64\n",
      " 7   retweeted_status_user_id    181 non-null    float64\n",
      " 8   retweeted_status_timestamp  181 non-null    object \n",
      " 9   expanded_urls               2297 non-null   object \n",
      " 10  rating_numerator            2356 non-null   int64  \n",
      " 11  rating_denominator          2356 non-null   int64  \n",
      " 12  name                        2356 non-null   object \n",
      " 13  doggo                       2356 non-null   object \n",
      " 14  floofer                     2356 non-null   object \n",
      " 15  pupper                      2356 non-null   object \n",
      " 16  puppo                       2356 non-null   object \n",
      "dtypes: float64(4), int64(3), object(10)\n",
      "memory usage: 313.0+ KB\n"
     ]
    },
    {
     "data": {
      "text/plain": [
       "None"
      ]
     },
     "metadata": {},
     "output_type": "display_data"
    },
    {
     "name": "stdout",
     "output_type": "stream",
     "text": [
      "\n",
      " Data queried through Twitter API - Info \n",
      "\n",
      "<class 'pandas.core.frame.DataFrame'>\n",
      "RangeIndex: 2331 entries, 0 to 2330\n",
      "Data columns (total 32 columns):\n",
      " #   Column                         Non-Null Count  Dtype              \n",
      "---  ------                         --------------  -----              \n",
      " 0   created_at                     2331 non-null   datetime64[ns, UTC]\n",
      " 1   id                             2331 non-null   int64              \n",
      " 2   id_str                         2331 non-null   int64              \n",
      " 3   full_text                      2331 non-null   object             \n",
      " 4   truncated                      2331 non-null   bool               \n",
      " 5   display_text_range             2331 non-null   object             \n",
      " 6   entities                       2331 non-null   object             \n",
      " 7   extended_entities              2059 non-null   object             \n",
      " 8   source                         2331 non-null   object             \n",
      " 9   in_reply_to_status_id          77 non-null     float64            \n",
      " 10  in_reply_to_status_id_str      77 non-null     float64            \n",
      " 11  in_reply_to_user_id            77 non-null     float64            \n",
      " 12  in_reply_to_user_id_str        77 non-null     float64            \n",
      " 13  in_reply_to_screen_name        77 non-null     object             \n",
      " 14  user                           2331 non-null   object             \n",
      " 15  geo                            0 non-null      float64            \n",
      " 16  coordinates                    0 non-null      float64            \n",
      " 17  place                          1 non-null      object             \n",
      " 18  contributors                   0 non-null      float64            \n",
      " 19  is_quote_status                2331 non-null   bool               \n",
      " 20  retweet_count                  2331 non-null   int64              \n",
      " 21  favorite_count                 2331 non-null   int64              \n",
      " 22  favorited                      2331 non-null   bool               \n",
      " 23  retweeted                      2331 non-null   bool               \n",
      " 24  possibly_sensitive             2197 non-null   float64            \n",
      " 25  possibly_sensitive_appealable  2197 non-null   float64            \n",
      " 26  lang                           2331 non-null   object             \n",
      " 27  retweeted_status               163 non-null    object             \n",
      " 28  quoted_status_id               26 non-null     float64            \n",
      " 29  quoted_status_id_str           26 non-null     float64            \n",
      " 30  quoted_status_permalink        26 non-null     object             \n",
      " 31  quoted_status                  24 non-null     object             \n",
      "dtypes: bool(4), datetime64[ns, UTC](1), float64(11), int64(4), object(12)\n",
      "memory usage: 519.1+ KB\n"
     ]
    },
    {
     "data": {
      "text/plain": [
       "None"
      ]
     },
     "metadata": {},
     "output_type": "display_data"
    }
   ],
   "source": [
    "print('Image Predictions - Info \\n')\n",
    "display(df_predictions.info())\n",
    "\n",
    "print('\"Enhanced Archive of Tweets\" - Info \\n')\n",
    "display(df_archive.info())\n",
    "\n",
    "print('\\n Data queried through Twitter API - Info \\n')\n",
    "display(df_api.info())"
   ]
  },
  {
   "cell_type": "markdown",
   "metadata": {},
   "source": [
    "### API Queried Dataset: Choosing Subset of Columns"
   ]
  },
  {
   "cell_type": "markdown",
   "metadata": {},
   "source": [
    "We want Retweet Count and Favorite Count, and we also want the ID Column to identify these tweets.\n",
    "A copy of the DataFrame is created in the cell below, with only the Features (columns) that we need."
   ]
  },
  {
   "cell_type": "code",
   "execution_count": 5,
   "metadata": {},
   "outputs": [
    {
     "data": {
      "text/html": [
       "<div>\n",
       "<style scoped>\n",
       "    .dataframe tbody tr th:only-of-type {\n",
       "        vertical-align: middle;\n",
       "    }\n",
       "\n",
       "    .dataframe tbody tr th {\n",
       "        vertical-align: top;\n",
       "    }\n",
       "\n",
       "    .dataframe thead th {\n",
       "        text-align: right;\n",
       "    }\n",
       "</style>\n",
       "<table border=\"1\" class=\"dataframe\">\n",
       "  <thead>\n",
       "    <tr style=\"text-align: right;\">\n",
       "      <th></th>\n",
       "      <th>id</th>\n",
       "      <th>retweet_count</th>\n",
       "      <th>favorite_count</th>\n",
       "    </tr>\n",
       "  </thead>\n",
       "  <tbody>\n",
       "    <tr>\n",
       "      <th>0</th>\n",
       "      <td>892420643555336193</td>\n",
       "      <td>7340</td>\n",
       "      <td>34977</td>\n",
       "    </tr>\n",
       "  </tbody>\n",
       "</table>\n",
       "</div>"
      ],
      "text/plain": [
       "                   id  retweet_count  favorite_count\n",
       "0  892420643555336193           7340           34977"
      ]
     },
     "execution_count": 5,
     "metadata": {},
     "output_type": "execute_result"
    }
   ],
   "source": [
    "df_api = df_api[['id','retweet_count','favorite_count']]\n",
    "df_api.head(1)"
   ]
  },
  {
   "cell_type": "markdown",
   "metadata": {},
   "source": [
    "### Checking for duplicates and missing data"
   ]
  },
  {
   "cell_type": "markdown",
   "metadata": {},
   "source": [
    "> We check for duplicates below and find no duplicates in any of the three datasets.\n",
    "    We do however find missing values in one of them, the \"Enhanced Archive\" DataFrame."
   ]
  },
  {
   "cell_type": "code",
   "execution_count": 6,
   "metadata": {},
   "outputs": [
    {
     "name": "stdout",
     "output_type": "stream",
     "text": [
      "0\n",
      "0\n",
      "0\n"
     ]
    }
   ],
   "source": [
    "print(df_predictions.duplicated().sum())\n",
    "print(df_archive.duplicated().sum())\n",
    "print(df_api.duplicated().sum())"
   ]
  },
  {
   "cell_type": "code",
   "execution_count": 7,
   "metadata": {},
   "outputs": [
    {
     "name": "stdout",
     "output_type": "stream",
     "text": [
      "0  Missing Values found in Image Predictions DataFrame \n",
      "\n",
      "11140  Missing Values found in Enhanced Archive DataFrame \n",
      "\n",
      "0  Missing Values found in API Queried DataFrame \n",
      "\n"
     ]
    }
   ],
   "source": [
    "print(df_predictions.isna().sum().sum(), \" Missing Values found in Image Predictions DataFrame \\n\")\n",
    "print(df_archive.isna().sum().sum(), \" Missing Values found in Enhanced Archive DataFrame \\n\")\n",
    "print(df_api.isna().sum().sum(), \" Missing Values found in API Queried DataFrame \\n\")"
   ]
  },
  {
   "cell_type": "markdown",
   "metadata": {},
   "source": [
    "### Describe\n",
    "> While these datasets are not strictly quantiative, we should have a look at their descriptive statistics for possible\n",
    "    insights."
   ]
  },
  {
   "cell_type": "code",
   "execution_count": 8,
   "metadata": {},
   "outputs": [
    {
     "data": {
      "text/html": [
       "<div>\n",
       "<style scoped>\n",
       "    .dataframe tbody tr th:only-of-type {\n",
       "        vertical-align: middle;\n",
       "    }\n",
       "\n",
       "    .dataframe tbody tr th {\n",
       "        vertical-align: top;\n",
       "    }\n",
       "\n",
       "    .dataframe thead th {\n",
       "        text-align: right;\n",
       "    }\n",
       "</style>\n",
       "<table border=\"1\" class=\"dataframe\">\n",
       "  <thead>\n",
       "    <tr style=\"text-align: right;\">\n",
       "      <th></th>\n",
       "      <th>tweet_id</th>\n",
       "      <th>img_num</th>\n",
       "      <th>p1_conf</th>\n",
       "      <th>p2_conf</th>\n",
       "      <th>p3_conf</th>\n",
       "    </tr>\n",
       "  </thead>\n",
       "  <tbody>\n",
       "    <tr>\n",
       "      <th>count</th>\n",
       "      <td>2.075000e+03</td>\n",
       "      <td>2075.000000</td>\n",
       "      <td>2075.000000</td>\n",
       "      <td>2.075000e+03</td>\n",
       "      <td>2.075000e+03</td>\n",
       "    </tr>\n",
       "    <tr>\n",
       "      <th>mean</th>\n",
       "      <td>7.384514e+17</td>\n",
       "      <td>1.203855</td>\n",
       "      <td>0.594548</td>\n",
       "      <td>1.345886e-01</td>\n",
       "      <td>6.032417e-02</td>\n",
       "    </tr>\n",
       "    <tr>\n",
       "      <th>std</th>\n",
       "      <td>6.785203e+16</td>\n",
       "      <td>0.561875</td>\n",
       "      <td>0.271174</td>\n",
       "      <td>1.006657e-01</td>\n",
       "      <td>5.090593e-02</td>\n",
       "    </tr>\n",
       "    <tr>\n",
       "      <th>min</th>\n",
       "      <td>6.660209e+17</td>\n",
       "      <td>1.000000</td>\n",
       "      <td>0.044333</td>\n",
       "      <td>1.011300e-08</td>\n",
       "      <td>1.740170e-10</td>\n",
       "    </tr>\n",
       "    <tr>\n",
       "      <th>25%</th>\n",
       "      <td>6.764835e+17</td>\n",
       "      <td>1.000000</td>\n",
       "      <td>0.364412</td>\n",
       "      <td>5.388625e-02</td>\n",
       "      <td>1.622240e-02</td>\n",
       "    </tr>\n",
       "    <tr>\n",
       "      <th>50%</th>\n",
       "      <td>7.119988e+17</td>\n",
       "      <td>1.000000</td>\n",
       "      <td>0.588230</td>\n",
       "      <td>1.181810e-01</td>\n",
       "      <td>4.944380e-02</td>\n",
       "    </tr>\n",
       "    <tr>\n",
       "      <th>75%</th>\n",
       "      <td>7.932034e+17</td>\n",
       "      <td>1.000000</td>\n",
       "      <td>0.843855</td>\n",
       "      <td>1.955655e-01</td>\n",
       "      <td>9.180755e-02</td>\n",
       "    </tr>\n",
       "    <tr>\n",
       "      <th>max</th>\n",
       "      <td>8.924206e+17</td>\n",
       "      <td>4.000000</td>\n",
       "      <td>1.000000</td>\n",
       "      <td>4.880140e-01</td>\n",
       "      <td>2.734190e-01</td>\n",
       "    </tr>\n",
       "  </tbody>\n",
       "</table>\n",
       "</div>"
      ],
      "text/plain": [
       "           tweet_id      img_num      p1_conf       p2_conf       p3_conf\n",
       "count  2.075000e+03  2075.000000  2075.000000  2.075000e+03  2.075000e+03\n",
       "mean   7.384514e+17     1.203855     0.594548  1.345886e-01  6.032417e-02\n",
       "std    6.785203e+16     0.561875     0.271174  1.006657e-01  5.090593e-02\n",
       "min    6.660209e+17     1.000000     0.044333  1.011300e-08  1.740170e-10\n",
       "25%    6.764835e+17     1.000000     0.364412  5.388625e-02  1.622240e-02\n",
       "50%    7.119988e+17     1.000000     0.588230  1.181810e-01  4.944380e-02\n",
       "75%    7.932034e+17     1.000000     0.843855  1.955655e-01  9.180755e-02\n",
       "max    8.924206e+17     4.000000     1.000000  4.880140e-01  2.734190e-01"
      ]
     },
     "execution_count": 8,
     "metadata": {},
     "output_type": "execute_result"
    }
   ],
   "source": [
    "df_predictions.describe()"
   ]
  },
  {
   "cell_type": "code",
   "execution_count": 9,
   "metadata": {},
   "outputs": [
    {
     "data": {
      "text/html": [
       "<div>\n",
       "<style scoped>\n",
       "    .dataframe tbody tr th:only-of-type {\n",
       "        vertical-align: middle;\n",
       "    }\n",
       "\n",
       "    .dataframe tbody tr th {\n",
       "        vertical-align: top;\n",
       "    }\n",
       "\n",
       "    .dataframe thead th {\n",
       "        text-align: right;\n",
       "    }\n",
       "</style>\n",
       "<table border=\"1\" class=\"dataframe\">\n",
       "  <thead>\n",
       "    <tr style=\"text-align: right;\">\n",
       "      <th></th>\n",
       "      <th>tweet_id</th>\n",
       "      <th>in_reply_to_status_id</th>\n",
       "      <th>in_reply_to_user_id</th>\n",
       "      <th>retweeted_status_id</th>\n",
       "      <th>retweeted_status_user_id</th>\n",
       "      <th>rating_numerator</th>\n",
       "      <th>rating_denominator</th>\n",
       "    </tr>\n",
       "  </thead>\n",
       "  <tbody>\n",
       "    <tr>\n",
       "      <th>count</th>\n",
       "      <td>2.356000e+03</td>\n",
       "      <td>7.800000e+01</td>\n",
       "      <td>7.800000e+01</td>\n",
       "      <td>1.810000e+02</td>\n",
       "      <td>1.810000e+02</td>\n",
       "      <td>2356.000000</td>\n",
       "      <td>2356.000000</td>\n",
       "    </tr>\n",
       "    <tr>\n",
       "      <th>mean</th>\n",
       "      <td>7.427716e+17</td>\n",
       "      <td>7.455079e+17</td>\n",
       "      <td>2.014171e+16</td>\n",
       "      <td>7.720400e+17</td>\n",
       "      <td>1.241698e+16</td>\n",
       "      <td>13.126486</td>\n",
       "      <td>10.455433</td>\n",
       "    </tr>\n",
       "    <tr>\n",
       "      <th>std</th>\n",
       "      <td>6.856705e+16</td>\n",
       "      <td>7.582492e+16</td>\n",
       "      <td>1.252797e+17</td>\n",
       "      <td>6.236928e+16</td>\n",
       "      <td>9.599254e+16</td>\n",
       "      <td>45.876648</td>\n",
       "      <td>6.745237</td>\n",
       "    </tr>\n",
       "    <tr>\n",
       "      <th>min</th>\n",
       "      <td>6.660209e+17</td>\n",
       "      <td>6.658147e+17</td>\n",
       "      <td>1.185634e+07</td>\n",
       "      <td>6.661041e+17</td>\n",
       "      <td>7.832140e+05</td>\n",
       "      <td>0.000000</td>\n",
       "      <td>0.000000</td>\n",
       "    </tr>\n",
       "    <tr>\n",
       "      <th>25%</th>\n",
       "      <td>6.783989e+17</td>\n",
       "      <td>6.757419e+17</td>\n",
       "      <td>3.086374e+08</td>\n",
       "      <td>7.186315e+17</td>\n",
       "      <td>4.196984e+09</td>\n",
       "      <td>10.000000</td>\n",
       "      <td>10.000000</td>\n",
       "    </tr>\n",
       "    <tr>\n",
       "      <th>50%</th>\n",
       "      <td>7.196279e+17</td>\n",
       "      <td>7.038708e+17</td>\n",
       "      <td>4.196984e+09</td>\n",
       "      <td>7.804657e+17</td>\n",
       "      <td>4.196984e+09</td>\n",
       "      <td>11.000000</td>\n",
       "      <td>10.000000</td>\n",
       "    </tr>\n",
       "    <tr>\n",
       "      <th>75%</th>\n",
       "      <td>7.993373e+17</td>\n",
       "      <td>8.257804e+17</td>\n",
       "      <td>4.196984e+09</td>\n",
       "      <td>8.203146e+17</td>\n",
       "      <td>4.196984e+09</td>\n",
       "      <td>12.000000</td>\n",
       "      <td>10.000000</td>\n",
       "    </tr>\n",
       "    <tr>\n",
       "      <th>max</th>\n",
       "      <td>8.924206e+17</td>\n",
       "      <td>8.862664e+17</td>\n",
       "      <td>8.405479e+17</td>\n",
       "      <td>8.874740e+17</td>\n",
       "      <td>7.874618e+17</td>\n",
       "      <td>1776.000000</td>\n",
       "      <td>170.000000</td>\n",
       "    </tr>\n",
       "  </tbody>\n",
       "</table>\n",
       "</div>"
      ],
      "text/plain": [
       "           tweet_id  in_reply_to_status_id  in_reply_to_user_id  \\\n",
       "count  2.356000e+03           7.800000e+01         7.800000e+01   \n",
       "mean   7.427716e+17           7.455079e+17         2.014171e+16   \n",
       "std    6.856705e+16           7.582492e+16         1.252797e+17   \n",
       "min    6.660209e+17           6.658147e+17         1.185634e+07   \n",
       "25%    6.783989e+17           6.757419e+17         3.086374e+08   \n",
       "50%    7.196279e+17           7.038708e+17         4.196984e+09   \n",
       "75%    7.993373e+17           8.257804e+17         4.196984e+09   \n",
       "max    8.924206e+17           8.862664e+17         8.405479e+17   \n",
       "\n",
       "       retweeted_status_id  retweeted_status_user_id  rating_numerator  \\\n",
       "count         1.810000e+02              1.810000e+02       2356.000000   \n",
       "mean          7.720400e+17              1.241698e+16         13.126486   \n",
       "std           6.236928e+16              9.599254e+16         45.876648   \n",
       "min           6.661041e+17              7.832140e+05          0.000000   \n",
       "25%           7.186315e+17              4.196984e+09         10.000000   \n",
       "50%           7.804657e+17              4.196984e+09         11.000000   \n",
       "75%           8.203146e+17              4.196984e+09         12.000000   \n",
       "max           8.874740e+17              7.874618e+17       1776.000000   \n",
       "\n",
       "       rating_denominator  \n",
       "count         2356.000000  \n",
       "mean            10.455433  \n",
       "std              6.745237  \n",
       "min              0.000000  \n",
       "25%             10.000000  \n",
       "50%             10.000000  \n",
       "75%             10.000000  \n",
       "max            170.000000  "
      ]
     },
     "execution_count": 9,
     "metadata": {},
     "output_type": "execute_result"
    }
   ],
   "source": [
    "df_archive.describe()"
   ]
  },
  {
   "cell_type": "code",
   "execution_count": 10,
   "metadata": {},
   "outputs": [
    {
     "data": {
      "text/html": [
       "<div>\n",
       "<style scoped>\n",
       "    .dataframe tbody tr th:only-of-type {\n",
       "        vertical-align: middle;\n",
       "    }\n",
       "\n",
       "    .dataframe tbody tr th {\n",
       "        vertical-align: top;\n",
       "    }\n",
       "\n",
       "    .dataframe thead th {\n",
       "        text-align: right;\n",
       "    }\n",
       "</style>\n",
       "<table border=\"1\" class=\"dataframe\">\n",
       "  <thead>\n",
       "    <tr style=\"text-align: right;\">\n",
       "      <th></th>\n",
       "      <th>id</th>\n",
       "      <th>retweet_count</th>\n",
       "      <th>favorite_count</th>\n",
       "    </tr>\n",
       "  </thead>\n",
       "  <tbody>\n",
       "    <tr>\n",
       "      <th>count</th>\n",
       "      <td>2.331000e+03</td>\n",
       "      <td>2331.000000</td>\n",
       "      <td>2331.000000</td>\n",
       "    </tr>\n",
       "    <tr>\n",
       "      <th>mean</th>\n",
       "      <td>7.419079e+17</td>\n",
       "      <td>2584.724153</td>\n",
       "      <td>7304.125697</td>\n",
       "    </tr>\n",
       "    <tr>\n",
       "      <th>std</th>\n",
       "      <td>6.823170e+16</td>\n",
       "      <td>4372.219769</td>\n",
       "      <td>11345.116255</td>\n",
       "    </tr>\n",
       "    <tr>\n",
       "      <th>min</th>\n",
       "      <td>6.660209e+17</td>\n",
       "      <td>1.000000</td>\n",
       "      <td>0.000000</td>\n",
       "    </tr>\n",
       "    <tr>\n",
       "      <th>25%</th>\n",
       "      <td>6.782670e+17</td>\n",
       "      <td>524.500000</td>\n",
       "      <td>1264.500000</td>\n",
       "    </tr>\n",
       "    <tr>\n",
       "      <th>50%</th>\n",
       "      <td>7.182469e+17</td>\n",
       "      <td>1205.000000</td>\n",
       "      <td>3167.000000</td>\n",
       "    </tr>\n",
       "    <tr>\n",
       "      <th>75%</th>\n",
       "      <td>7.986692e+17</td>\n",
       "      <td>2993.000000</td>\n",
       "      <td>8931.500000</td>\n",
       "    </tr>\n",
       "    <tr>\n",
       "      <th>max</th>\n",
       "      <td>8.924206e+17</td>\n",
       "      <td>74178.000000</td>\n",
       "      <td>150339.000000</td>\n",
       "    </tr>\n",
       "  </tbody>\n",
       "</table>\n",
       "</div>"
      ],
      "text/plain": [
       "                 id  retweet_count  favorite_count\n",
       "count  2.331000e+03    2331.000000     2331.000000\n",
       "mean   7.419079e+17    2584.724153     7304.125697\n",
       "std    6.823170e+16    4372.219769    11345.116255\n",
       "min    6.660209e+17       1.000000        0.000000\n",
       "25%    6.782670e+17     524.500000     1264.500000\n",
       "50%    7.182469e+17    1205.000000     3167.000000\n",
       "75%    7.986692e+17    2993.000000     8931.500000\n",
       "max    8.924206e+17   74178.000000   150339.000000"
      ]
     },
     "execution_count": 10,
     "metadata": {},
     "output_type": "execute_result"
    }
   ],
   "source": [
    "df_api.describe()"
   ]
  },
  {
   "cell_type": "markdown",
   "metadata": {},
   "source": [
    "> In the Enhanced Archive dataset the numerator and denominator Minimums are at 0.0 which draws attention to that data. All the denominators should be 10."
   ]
  },
  {
   "cell_type": "code",
   "execution_count": 11,
   "metadata": {},
   "outputs": [
    {
     "data": {
      "text/plain": [
       "315        0\n",
       "1016       0\n",
       "2335       1\n",
       "2261       1\n",
       "2338       1\n",
       "        ... \n",
       "2074     420\n",
       "188      420\n",
       "189      666\n",
       "313      960\n",
       "979     1776\n",
       "Name: rating_numerator, Length: 2356, dtype: int64"
      ]
     },
     "execution_count": 11,
     "metadata": {},
     "output_type": "execute_result"
    }
   ],
   "source": [
    "df_archive.rating_numerator.sort_values()"
   ]
  },
  {
   "cell_type": "code",
   "execution_count": 12,
   "metadata": {},
   "outputs": [
    {
     "data": {
      "text/plain": [
       "313       0\n",
       "2335      2\n",
       "516       7\n",
       "1576     10\n",
       "1575     10\n",
       "       ... \n",
       "1635    110\n",
       "1779    120\n",
       "1634    130\n",
       "902     150\n",
       "1120    170\n",
       "Name: rating_denominator, Length: 2356, dtype: int64"
      ]
     },
     "execution_count": 12,
     "metadata": {},
     "output_type": "execute_result"
    }
   ],
   "source": [
    "df_archive.rating_denominator.sort_values()"
   ]
  },
  {
   "cell_type": "markdown",
   "metadata": {},
   "source": [
    "<a id='intro'></a>\n",
    "## Issues Found with Datasets\n",
    "### Data was further inspected visually using Excel and the following issues were spotted:\n",
    "\n",
    "### Inspecting for Quality\n",
    "#### Image Predictions Table\n",
    "    No issues found.\n",
    "    \n",
    "\n",
    "#### Enhanced Archive Table\n",
    "    - We only want Original Ratings, no retweets or replies.\n",
    "    - All denominators should be 10\n",
    "    - Since all denominators should be 10, we can remove this column, and change 'rating_numerator' column to 'rating'.\n",
    "    - Timestamps Data Type is 'Object' and should be converted to Pandas Date-Time Data Type Format.\n",
    "    - Some of the names of dogs were erroneously extracted such as 'a', 'unacceptable', or 'infuriating'.\n",
    "    - To make things simple, we should only take the columns that will be useful.\n",
    "    - Dog nicknames columns have None, instead of NaN.\n",
    "    - Ratings with decimal values are incorrectly extracted. RegEx might be helpful here.\n",
    "    - ID Fields should be converted to strings. Numerical operations aren't supposed to be applicable to them.\n",
    "\n",
    "#### API Queried Table\n",
    "    No issues found.\n",
    "\n",
    "### Inspecting for Tidiness (structure)\n",
    "> All three tables should be merged into one DataFrame.\n",
    "\n",
    "#### Image Predictions Table\n",
    "    - For each dog, the top 3 predictions of their breed are there along with the True label of whether they actually are a dog or not. For dog predictions; of the ones that are correctly predicted as a dog, we keep the one with the highest confidence.\n",
    "\n",
    "#### Enhanced Archive Table\n",
    "    - Dog nicknames columns (floofer, doggo, pupper, puppo) should all be one column, as a Categorical Data Type.\n",
    "\n",
    "\n",
    "#### API Queried Table\n",
    "\n",
    "    - Source Column in Enhanced Archive Table, and API Queried Table is surrounded by tags. Tags can be removed using RegEx."
   ]
  },
  {
   "cell_type": "markdown",
   "metadata": {},
   "source": [
    "<a id='cleaning'></a>\n",
    "## Cleaning Data\n",
    "Create copies of the data before cleaning.\n",
    "\n",
    "First step of Cleaning is to merge all three DataFrames into one."
   ]
  },
  {
   "cell_type": "code",
   "execution_count": 13,
   "metadata": {},
   "outputs": [],
   "source": [
    "df_predictions_c = df_predictions.copy()\n",
    "df_archive_c = df_archive.copy()\n",
    "df_api_c = df_api.copy()"
   ]
  },
  {
   "cell_type": "markdown",
   "metadata": {},
   "source": [
    "### Merging DataFrames"
   ]
  },
  {
   "cell_type": "code",
   "execution_count": 14,
   "metadata": {
    "scrolled": true
   },
   "outputs": [
    {
     "name": "stdout",
     "output_type": "stream",
     "text": [
      "<class 'pandas.core.frame.DataFrame'>\n",
      "Int64Index: 2059 entries, 0 to 2058\n",
      "Data columns (total 31 columns):\n",
      " #   Column                      Non-Null Count  Dtype  \n",
      "---  ------                      --------------  -----  \n",
      " 0   tweet_id                    2059 non-null   int64  \n",
      " 1   in_reply_to_status_id       23 non-null     float64\n",
      " 2   in_reply_to_user_id         23 non-null     float64\n",
      " 3   timestamp                   2059 non-null   object \n",
      " 4   source                      2059 non-null   object \n",
      " 5   text                        2059 non-null   object \n",
      " 6   retweeted_status_id         72 non-null     float64\n",
      " 7   retweeted_status_user_id    72 non-null     float64\n",
      " 8   retweeted_status_timestamp  72 non-null     object \n",
      " 9   expanded_urls               2059 non-null   object \n",
      " 10  rating_numerator            2059 non-null   int64  \n",
      " 11  rating_denominator          2059 non-null   int64  \n",
      " 12  name                        2059 non-null   object \n",
      " 13  doggo                       2059 non-null   object \n",
      " 14  floofer                     2059 non-null   object \n",
      " 15  pupper                      2059 non-null   object \n",
      " 16  puppo                       2059 non-null   object \n",
      " 17  jpg_url                     2059 non-null   object \n",
      " 18  img_num                     2059 non-null   int64  \n",
      " 19  p1                          2059 non-null   object \n",
      " 20  p1_conf                     2059 non-null   float64\n",
      " 21  p1_dog                      2059 non-null   bool   \n",
      " 22  p2                          2059 non-null   object \n",
      " 23  p2_conf                     2059 non-null   float64\n",
      " 24  p2_dog                      2059 non-null   bool   \n",
      " 25  p3                          2059 non-null   object \n",
      " 26  p3_conf                     2059 non-null   float64\n",
      " 27  p3_dog                      2059 non-null   bool   \n",
      " 28  id                          2059 non-null   int64  \n",
      " 29  retweet_count               2059 non-null   int64  \n",
      " 30  favorite_count              2059 non-null   int64  \n",
      "dtypes: bool(3), float64(7), int64(7), object(14)\n",
      "memory usage: 472.5+ KB\n"
     ]
    }
   ],
   "source": [
    "df_clean = pd.merge(df_archive_c, df_predictions_c, how='inner', on='tweet_id')\n",
    "\n",
    "df_clean = pd.merge(df_clean, df_api_c, how='inner', left_on='tweet_id', right_on='id')\n",
    "\n",
    "df_clean.info()"
   ]
  },
  {
   "cell_type": "markdown",
   "metadata": {},
   "source": [
    "### Taking Original Tweets Only\n",
    "> Keep only rows that have null data as a value under Retweet ID and Reply ID columns. Null value under these two columns signifies this is an original tweet.\n"
   ]
  },
  {
   "cell_type": "code",
   "execution_count": 15,
   "metadata": {},
   "outputs": [
    {
     "name": "stdout",
     "output_type": "stream",
     "text": [
      "(2059, 31) Shape Before\n",
      "(1964, 31) Shape After\n"
     ]
    }
   ],
   "source": [
    "print(df_clean.shape, \"Shape Before\")\n",
    "df_clean = df_clean[df_clean.retweeted_status_id.isnull()]\n",
    "df_clean = df_clean[df_clean.in_reply_to_user_id.isnull()]\n",
    "print(df_clean.shape, \"Shape After\")"
   ]
  },
  {
   "cell_type": "markdown",
   "metadata": {},
   "source": [
    "### Dropping Extra Columns"
   ]
  },
  {
   "cell_type": "markdown",
   "metadata": {},
   "source": [
    "> We see numerous extra columns and drop them below to make it simpler to work with the data."
   ]
  },
  {
   "cell_type": "code",
   "execution_count": 16,
   "metadata": {},
   "outputs": [
    {
     "name": "stdout",
     "output_type": "stream",
     "text": [
      "<class 'pandas.core.frame.DataFrame'>\n",
      "Int64Index: 1964 entries, 0 to 2058\n",
      "Data columns (total 23 columns):\n",
      " #   Column              Non-Null Count  Dtype  \n",
      "---  ------              --------------  -----  \n",
      " 0   tweet_id            1964 non-null   int64  \n",
      " 1   timestamp           1964 non-null   object \n",
      " 2   source              1964 non-null   object \n",
      " 3   text                1964 non-null   object \n",
      " 4   rating_numerator    1964 non-null   int64  \n",
      " 5   rating_denominator  1964 non-null   int64  \n",
      " 6   name                1964 non-null   object \n",
      " 7   doggo               1964 non-null   object \n",
      " 8   floofer             1964 non-null   object \n",
      " 9   pupper              1964 non-null   object \n",
      " 10  puppo               1964 non-null   object \n",
      " 11  p1                  1964 non-null   object \n",
      " 12  p1_conf             1964 non-null   float64\n",
      " 13  p1_dog              1964 non-null   bool   \n",
      " 14  p2                  1964 non-null   object \n",
      " 15  p2_conf             1964 non-null   float64\n",
      " 16  p2_dog              1964 non-null   bool   \n",
      " 17  p3                  1964 non-null   object \n",
      " 18  p3_conf             1964 non-null   float64\n",
      " 19  p3_dog              1964 non-null   bool   \n",
      " 20  id                  1964 non-null   int64  \n",
      " 21  retweet_count       1964 non-null   int64  \n",
      " 22  favorite_count      1964 non-null   int64  \n",
      "dtypes: bool(3), float64(3), int64(6), object(11)\n",
      "memory usage: 328.0+ KB\n"
     ]
    }
   ],
   "source": [
    "df_clean = df_clean.drop(columns=['in_reply_to_status_id',\n",
    "                                  'in_reply_to_user_id',\n",
    "                                  'retweeted_status_id',\n",
    "                                  'retweeted_status_user_id',\n",
    "                                  'retweeted_status_timestamp',\n",
    "                                  'img_num',\n",
    "                                  'expanded_urls',\n",
    "                                 'jpg_url'])\n",
    "df_clean.info()"
   ]
  },
  {
   "cell_type": "markdown",
   "metadata": {},
   "source": [
    "### ID Fields converted to String"
   ]
  },
  {
   "cell_type": "code",
   "execution_count": 55,
   "metadata": {},
   "outputs": [
    {
     "name": "stdout",
     "output_type": "stream",
     "text": [
      "<class 'pandas.core.frame.DataFrame'>\n",
      "Int64Index: 1945 entries, 0 to 2058\n",
      "Data columns (total 11 columns):\n",
      " #   Column          Non-Null Count  Dtype         \n",
      "---  ------          --------------  -----         \n",
      " 0   tweet_id        1945 non-null   string        \n",
      " 1   timestamp       1945 non-null   datetime64[ns]\n",
      " 2   source          1945 non-null   object        \n",
      " 3   text            1945 non-null   object        \n",
      " 4   rating          1945 non-null   float64       \n",
      " 5   name            1433 non-null   object        \n",
      " 6   id              1945 non-null   int64         \n",
      " 7   retweet_count   1945 non-null   int64         \n",
      " 8   favorite_count  1945 non-null   int64         \n",
      " 9   nickname        1945 non-null   object        \n",
      " 10  breed           1643 non-null   category      \n",
      "dtypes: category(1), datetime64[ns](1), float64(1), int64(3), object(4), string(1)\n",
      "memory usage: 254.9+ KB\n"
     ]
    }
   ],
   "source": [
    "df_clean.tweet_id = df_clean.tweet_id.astype('string')\n",
    "df_clean.info()"
   ]
  },
  {
   "cell_type": "code",
   "execution_count": null,
   "metadata": {},
   "outputs": [],
   "source": []
  },
  {
   "cell_type": "markdown",
   "metadata": {},
   "source": [
    "### Fixing Mistakes in Dog Names\n",
    "> We see that all dogs with erroneously extracted names start with lowercase letters. And that some dogs have names as 'None'. We will change them all to 'None' and replace 'None' with NaN."
   ]
  },
  {
   "cell_type": "code",
   "execution_count": 17,
   "metadata": {},
   "outputs": [],
   "source": [
    "def dog_names(dog):\n",
    "    if dog['name'][0].islower() == True:\n",
    "        return 'None'\n",
    "    else:\n",
    "        return dog['name']\n",
    "\n",
    "df_clean.apply(dog_names, axis=1)\n",
    "\n",
    "df_clean.replace('None', np.nan, inplace=True)"
   ]
  },
  {
   "cell_type": "code",
   "execution_count": 18,
   "metadata": {},
   "outputs": [
    {
     "data": {
      "text/plain": [
       "['Phineas',\n",
       " 'Tilly',\n",
       " 'Archie',\n",
       " 'Darla',\n",
       " 'Franklin',\n",
       " nan,\n",
       " 'Jax',\n",
       " nan,\n",
       " 'Zoey',\n",
       " 'Cassie',\n",
       " 'Koda',\n",
       " 'Bruno',\n",
       " nan,\n",
       " 'Ted',\n",
       " 'Stuart',\n",
       " 'Oliver',\n",
       " 'Jim',\n",
       " 'Zeke',\n",
       " 'Ralphus',\n",
       " 'Gerald',\n",
       " 'Jeffrey',\n",
       " 'such',\n",
       " 'Canela',\n",
       " nan,\n",
       " nan,\n",
       " 'Maya',\n",
       " 'Mingus',\n",
       " 'Derek',\n",
       " 'Roscoe',\n",
       " 'Waffles',\n",
       " 'Jimbo',\n",
       " 'Maisey',\n",
       " nan,\n",
       " 'Earl',\n",
       " 'Lola',\n",
       " 'Kevin',\n",
       " nan,\n",
       " 'Yogi',\n",
       " 'Noah',\n",
       " 'Bella',\n",
       " 'Grizzwald',\n",
       " nan,\n",
       " 'Rusty',\n",
       " 'Gus',\n",
       " 'Stanley',\n",
       " 'Alfy',\n",
       " 'Koko',\n",
       " 'Rey',\n",
       " 'Gary',\n",
       " 'a',\n",
       " 'Elliot',\n",
       " 'Louis',\n",
       " nan,\n",
       " 'Bella',\n",
       " 'Jesse',\n",
       " nan,\n",
       " 'Romeo',\n",
       " 'Bailey',\n",
       " 'Duddles',\n",
       " 'Jack',\n",
       " 'Steven',\n",
       " 'Beau',\n",
       " 'Snoopy',\n",
       " 'Shadow',\n",
       " 'Emmy',\n",
       " 'Aja',\n",
       " 'Penny',\n",
       " 'Dante',\n",
       " 'Nelly',\n",
       " 'Ginger',\n",
       " 'Benedict',\n",
       " 'Venti',\n",
       " 'Goose',\n",
       " 'Nugget',\n",
       " nan,\n",
       " 'Cash',\n",
       " 'Jed',\n",
       " nan,\n",
       " 'Sebastian',\n",
       " nan,\n",
       " 'Sierra',\n",
       " nan,\n",
       " nan,\n",
       " 'Monkey',\n",
       " nan,\n",
       " 'Kody',\n",
       " 'Lassie',\n",
       " 'Rover',\n",
       " 'Napolean',\n",
       " 'Boomer',\n",
       " nan,\n",
       " 'Cody',\n",
       " 'Zoey',\n",
       " 'Rumble',\n",
       " 'Clifford',\n",
       " 'Dewey',\n",
       " 'Stanley',\n",
       " 'Scout',\n",
       " 'Gizmo',\n",
       " 'Walter',\n",
       " nan,\n",
       " 'Cooper',\n",
       " nan,\n",
       " 'Harold',\n",
       " 'Shikha',\n",
       " nan,\n",
       " 'Lili',\n",
       " 'Jamesy',\n",
       " 'Coco',\n",
       " 'Boomer',\n",
       " 'Sammy',\n",
       " 'Nelly',\n",
       " nan,\n",
       " 'Meatball',\n",
       " 'Paisley',\n",
       " 'Albus',\n",
       " 'Neptune',\n",
       " 'Belle',\n",
       " 'Quinn',\n",
       " 'Zooey',\n",
       " 'Dave',\n",
       " 'Jersey',\n",
       " nan,\n",
       " 'Hobbes',\n",
       " nan,\n",
       " 'Burt',\n",
       " 'Lorenzo',\n",
       " 'Carl',\n",
       " 'Jordy',\n",
       " nan,\n",
       " 'Milky',\n",
       " 'Trooper',\n",
       " nan,\n",
       " 'quite',\n",
       " nan,\n",
       " nan,\n",
       " 'Sophie',\n",
       " 'Wyatt',\n",
       " 'Rosie',\n",
       " 'Thor',\n",
       " nan,\n",
       " 'Oscar',\n",
       " 'Zeke',\n",
       " 'Callie',\n",
       " 'Cermet',\n",
       " nan,\n",
       " 'quite',\n",
       " 'Marlee',\n",
       " 'Arya',\n",
       " 'Einstein',\n",
       " nan,\n",
       " nan,\n",
       " 'Alice',\n",
       " nan,\n",
       " 'Rumpole',\n",
       " 'Benny',\n",
       " 'Aspen',\n",
       " 'Jarod',\n",
       " 'Wiggles',\n",
       " 'General',\n",
       " 'Sailor',\n",
       " nan,\n",
       " 'Iggy',\n",
       " 'Snoop',\n",
       " 'Kyle',\n",
       " 'Leo',\n",
       " 'Riley',\n",
       " 'Boomer',\n",
       " nan,\n",
       " 'Noosh',\n",
       " nan,\n",
       " 'Kevin',\n",
       " nan,\n",
       " 'Odin',\n",
       " 'Jerry',\n",
       " 'Georgie',\n",
       " 'Rontu',\n",
       " 'Cannon',\n",
       " 'Furzey',\n",
       " 'Daisy',\n",
       " nan,\n",
       " 'Tuck',\n",
       " 'Barney',\n",
       " 'Vixen',\n",
       " 'Jarvis',\n",
       " nan,\n",
       " nan,\n",
       " 'Mimosa',\n",
       " 'Pickles',\n",
       " 'Brady',\n",
       " 'Charlie',\n",
       " 'Margo',\n",
       " 'Sadie',\n",
       " 'Hank',\n",
       " 'Tycho',\n",
       " 'Charlie',\n",
       " 'Indie',\n",
       " 'Winnie',\n",
       " 'George',\n",
       " 'Bentley',\n",
       " 'Penny',\n",
       " nan,\n",
       " 'Max',\n",
       " 'Dawn',\n",
       " nan,\n",
       " 'Maddie',\n",
       " nan,\n",
       " 'Monty',\n",
       " 'Sojourner',\n",
       " 'Winston',\n",
       " 'Odie',\n",
       " 'Arlo',\n",
       " 'Walter',\n",
       " 'Stanley',\n",
       " 'Daisy',\n",
       " nan,\n",
       " 'Waffles',\n",
       " 'Vincent',\n",
       " 'Clark',\n",
       " 'Mookie',\n",
       " 'Meera',\n",
       " 'Oliver',\n",
       " 'Ava',\n",
       " 'Lucy',\n",
       " nan,\n",
       " 'Eli',\n",
       " 'Ash',\n",
       " 'Lola',\n",
       " nan,\n",
       " nan,\n",
       " 'Tucker',\n",
       " 'Tobi',\n",
       " nan,\n",
       " 'Chester',\n",
       " 'Wilson',\n",
       " 'Sunshine',\n",
       " 'Lipton',\n",
       " 'Bentley',\n",
       " 'Charlie',\n",
       " 'Bronte',\n",
       " 'Poppy',\n",
       " 'Gidget',\n",
       " 'Rhino',\n",
       " 'Willow',\n",
       " 'Orion',\n",
       " 'Eevee',\n",
       " 'Charlie',\n",
       " 'Smiley',\n",
       " 'Miguel',\n",
       " 'Emanuel',\n",
       " 'Kuyu',\n",
       " 'Daisy',\n",
       " nan,\n",
       " 'Dutch',\n",
       " 'Pete',\n",
       " nan,\n",
       " 'Scooter',\n",
       " 'Tucker',\n",
       " 'Reggie',\n",
       " 'Lilly',\n",
       " 'Samson',\n",
       " 'Mia',\n",
       " 'Leo',\n",
       " nan,\n",
       " 'Malcolm',\n",
       " 'Dexter',\n",
       " 'Alfie',\n",
       " 'Fiona',\n",
       " 'one',\n",
       " 'Mutt',\n",
       " 'Bear',\n",
       " 'Doobert',\n",
       " 'Beebop',\n",
       " 'Alexander',\n",
       " 'Sailer',\n",
       " 'Brutus',\n",
       " 'Kona',\n",
       " 'Boots',\n",
       " 'Tucker',\n",
       " 'Ralphie',\n",
       " 'Charlie',\n",
       " 'Loki',\n",
       " 'Cupid',\n",
       " 'Pawnd',\n",
       " 'Pilot',\n",
       " nan,\n",
       " nan,\n",
       " 'Ike',\n",
       " 'Mo',\n",
       " 'Toby',\n",
       " nan,\n",
       " 'Sweet',\n",
       " 'Pablo',\n",
       " 'Scooter',\n",
       " 'Wilson',\n",
       " nan,\n",
       " 'Nala',\n",
       " 'Cash',\n",
       " 'Winston',\n",
       " 'Crawford',\n",
       " 'Wyatt',\n",
       " 'Albus',\n",
       " nan,\n",
       " 'Hobbes',\n",
       " nan,\n",
       " 'Paisley',\n",
       " 'Gabe',\n",
       " nan,\n",
       " 'Jimison',\n",
       " 'Duchess',\n",
       " 'Harlso',\n",
       " 'Sundance',\n",
       " 'Luca',\n",
       " nan,\n",
       " 'Flash',\n",
       " 'Sunny',\n",
       " nan,\n",
       " nan,\n",
       " nan,\n",
       " 'Oliver',\n",
       " nan,\n",
       " 'Howie',\n",
       " 'Jazzy',\n",
       " 'Anna',\n",
       " 'Finn',\n",
       " 'Sunny',\n",
       " 'Bo',\n",
       " 'Wafer',\n",
       " 'Bear',\n",
       " 'Tom',\n",
       " 'Florence',\n",
       " 'Autumn',\n",
       " 'Buddy',\n",
       " 'Dido',\n",
       " 'Eugene',\n",
       " 'Ken',\n",
       " 'Strudel',\n",
       " 'Tebow',\n",
       " nan,\n",
       " 'Chloe',\n",
       " 'Timber',\n",
       " 'Binky',\n",
       " 'Moose',\n",
       " 'Dudley',\n",
       " 'Comet',\n",
       " 'Jack',\n",
       " nan,\n",
       " 'Akumi',\n",
       " 'Titan',\n",
       " nan,\n",
       " 'Cooper',\n",
       " 'Olivia',\n",
       " 'Alf',\n",
       " 'Oshie',\n",
       " 'Chubbs',\n",
       " 'Gary',\n",
       " 'Sky',\n",
       " 'Atlas',\n",
       " nan,\n",
       " nan,\n",
       " 'Eleanor',\n",
       " 'Layla',\n",
       " nan,\n",
       " nan,\n",
       " 'Toby',\n",
       " 'Rocky',\n",
       " 'Baron',\n",
       " 'Tyr',\n",
       " 'Bauer',\n",
       " 'Swagger',\n",
       " 'Brandi',\n",
       " nan,\n",
       " 'Mary',\n",
       " 'Moe',\n",
       " 'Ted',\n",
       " 'Halo',\n",
       " 'Augie',\n",
       " 'Craig',\n",
       " 'Sam',\n",
       " 'Hunter',\n",
       " 'Pavlov',\n",
       " 'Phil',\n",
       " 'Gus',\n",
       " nan,\n",
       " nan,\n",
       " 'Kyro',\n",
       " 'Wallace',\n",
       " 'Ito',\n",
       " nan,\n",
       " 'Koda',\n",
       " nan,\n",
       " 'Cooper',\n",
       " 'Ollie',\n",
       " 'Stephan',\n",
       " 'Lennon',\n",
       " nan,\n",
       " 'Waffles',\n",
       " 'incredibly',\n",
       " 'Major',\n",
       " 'Duke',\n",
       " 'Zeke',\n",
       " 'Sansa',\n",
       " 'Shooter',\n",
       " 'Django',\n",
       " 'Bo',\n",
       " 'Diogi',\n",
       " nan,\n",
       " 'Sonny',\n",
       " 'Winston',\n",
       " 'Marley',\n",
       " 'Winnie',\n",
       " 'Severus',\n",
       " 'Loki',\n",
       " 'Ronnie',\n",
       " 'Wallace',\n",
       " nan,\n",
       " 'Milo',\n",
       " 'Bones',\n",
       " 'Mauve',\n",
       " 'Chef',\n",
       " nan,\n",
       " 'Doc',\n",
       " 'Peaches',\n",
       " nan,\n",
       " 'Sobe',\n",
       " 'Longfellow',\n",
       " 'Jeffrey',\n",
       " 'Mister',\n",
       " 'Iroh',\n",
       " 'Shadow',\n",
       " 'Cooper',\n",
       " nan,\n",
       " 'Cassie',\n",
       " 'Pancake',\n",
       " 'Tyr',\n",
       " 'Romeo',\n",
       " nan,\n",
       " 'Snicku',\n",
       " 'Ruby',\n",
       " nan,\n",
       " 'Yogi',\n",
       " 'Daisy',\n",
       " nan,\n",
       " 'Brody',\n",
       " 'Bailey',\n",
       " 'Mack',\n",
       " 'Nimbus',\n",
       " 'Laika',\n",
       " 'Maximus',\n",
       " 'Clark',\n",
       " 'Dobby',\n",
       " 'Fiona',\n",
       " 'Moreton',\n",
       " 'Dave',\n",
       " nan,\n",
       " 'Tucker',\n",
       " 'Juno',\n",
       " 'Maude',\n",
       " 'Lily',\n",
       " 'Newt',\n",
       " 'Benji',\n",
       " 'Nida',\n",
       " nan,\n",
       " 'Robin',\n",
       " 'a',\n",
       " 'Bailey',\n",
       " 'Monster',\n",
       " 'BeBe',\n",
       " 'Remus',\n",
       " nan,\n",
       " 'Levi',\n",
       " 'Mabel',\n",
       " 'Misty',\n",
       " 'Betty',\n",
       " 'Mosby',\n",
       " 'Duke',\n",
       " 'Maggie',\n",
       " 'Bruce',\n",
       " 'Happy',\n",
       " 'Eli',\n",
       " 'Brownie',\n",
       " 'Rizzy',\n",
       " 'Stella',\n",
       " 'Bo',\n",
       " 'Lucy',\n",
       " 'Butter',\n",
       " 'Dexter',\n",
       " nan,\n",
       " 'Leo',\n",
       " nan,\n",
       " 'Frank',\n",
       " 'Tonks',\n",
       " 'Moose',\n",
       " 'Lincoln',\n",
       " 'Rory',\n",
       " 'Logan',\n",
       " nan,\n",
       " 'Dale',\n",
       " 'Rizzo',\n",
       " 'Mattie',\n",
       " 'Lucy',\n",
       " 'Rusty',\n",
       " 'Pinot',\n",
       " 'Dallas',\n",
       " 'Doc',\n",
       " 'Hero',\n",
       " 'Rusty',\n",
       " 'Frankie',\n",
       " 'Stormy',\n",
       " 'Riley',\n",
       " 'Mairi',\n",
       " 'Loomis',\n",
       " 'Finn',\n",
       " 'Godi',\n",
       " 'Dave',\n",
       " 'Earl',\n",
       " 'Cali',\n",
       " 'Deacon',\n",
       " 'Penny',\n",
       " 'Timmy',\n",
       " 'Sampson',\n",
       " 'Chipson',\n",
       " nan,\n",
       " nan,\n",
       " 'Oakley',\n",
       " nan,\n",
       " nan,\n",
       " 'Dash',\n",
       " 'Koda',\n",
       " 'Hercules',\n",
       " nan,\n",
       " 'Bear',\n",
       " nan,\n",
       " 'Scout',\n",
       " nan,\n",
       " nan,\n",
       " 'Jay',\n",
       " 'Mya',\n",
       " 'Strider',\n",
       " 'Penny',\n",
       " nan,\n",
       " 'Nala',\n",
       " 'Stanley',\n",
       " nan,\n",
       " 'Sophie',\n",
       " 'Wesley',\n",
       " nan,\n",
       " 'Derek',\n",
       " 'Jeffrey',\n",
       " 'Solomon',\n",
       " 'Huck',\n",
       " nan,\n",
       " 'O',\n",
       " 'Sampson',\n",
       " nan,\n",
       " 'Blue',\n",
       " 'Anakin',\n",
       " nan,\n",
       " 'Finley',\n",
       " 'Tucker',\n",
       " 'Finley',\n",
       " 'Sprinkles',\n",
       " nan,\n",
       " 'Winnie',\n",
       " 'Heinrich',\n",
       " 'Loki',\n",
       " 'Shakespeare',\n",
       " 'Chelsea',\n",
       " 'Bungalo',\n",
       " 'Chip',\n",
       " 'Grey',\n",
       " nan,\n",
       " 'Roosevelt',\n",
       " 'a',\n",
       " 'Willem',\n",
       " nan,\n",
       " 'Jack',\n",
       " 'Finn',\n",
       " 'Penny',\n",
       " 'Davey',\n",
       " 'Dakota',\n",
       " 'Fizz',\n",
       " 'Dixie',\n",
       " 'Charlie',\n",
       " nan,\n",
       " 'Winston',\n",
       " 'Sebastian',\n",
       " 'very',\n",
       " 'Al',\n",
       " 'Jackson',\n",
       " 'Carbon',\n",
       " 'Klein',\n",
       " 'Titan',\n",
       " 'DonDon',\n",
       " 'Kirby',\n",
       " 'Jesse',\n",
       " 'Lou',\n",
       " 'Oakley',\n",
       " 'Chevy',\n",
       " 'Gerald',\n",
       " 'Tito',\n",
       " 'Philbert',\n",
       " 'Louie',\n",
       " nan,\n",
       " 'Rupert',\n",
       " 'Rufus',\n",
       " 'Brudge',\n",
       " 'Shadoe',\n",
       " 'Oscar',\n",
       " 'Juno',\n",
       " 'Angel',\n",
       " 'Brat',\n",
       " 'Tove',\n",
       " 'my',\n",
       " 'Louie',\n",
       " 'Gromit',\n",
       " 'Aubie',\n",
       " 'Kota',\n",
       " 'Alfie',\n",
       " 'Clark',\n",
       " 'Belle',\n",
       " 'Leela',\n",
       " 'Glenn',\n",
       " 'Buddy',\n",
       " 'Scout',\n",
       " nan,\n",
       " 'Shelby',\n",
       " nan,\n",
       " nan,\n",
       " 'Sephie',\n",
       " 'Bruce',\n",
       " 'Bonaparte',\n",
       " 'Albert',\n",
       " 'Bo',\n",
       " 'Wishes',\n",
       " 'Rose',\n",
       " 'Theo',\n",
       " 'Atlas',\n",
       " 'Rocco',\n",
       " 'Fido',\n",
       " 'Sadie',\n",
       " nan,\n",
       " 'Kirby',\n",
       " 'Maggie',\n",
       " 'Emma',\n",
       " 'Oakley',\n",
       " 'Luna',\n",
       " 'Toby',\n",
       " 'Spencer',\n",
       " 'Lilli',\n",
       " nan,\n",
       " 'Boston',\n",
       " 'Brandonald',\n",
       " nan,\n",
       " 'Odie',\n",
       " 'Corey',\n",
       " nan,\n",
       " 'Leonard',\n",
       " 'Beckham',\n",
       " 'Cooper',\n",
       " nan,\n",
       " nan,\n",
       " nan,\n",
       " 'Devón',\n",
       " 'Oliver',\n",
       " 'Jax',\n",
       " 'Gert',\n",
       " nan,\n",
       " nan,\n",
       " nan,\n",
       " nan,\n",
       " nan,\n",
       " 'one',\n",
       " 'Watson',\n",
       " 'Winnie',\n",
       " 'Keith',\n",
       " 'Milo',\n",
       " 'Dex',\n",
       " nan,\n",
       " nan,\n",
       " nan,\n",
       " 'Scout',\n",
       " 'Hank',\n",
       " 'Ace',\n",
       " 'Tayzie',\n",
       " 'Grizzie',\n",
       " nan,\n",
       " nan,\n",
       " nan,\n",
       " nan,\n",
       " 'Brody',\n",
       " 'Ruby',\n",
       " 'Tucker',\n",
       " 'Toby',\n",
       " nan,\n",
       " 'Max',\n",
       " nan,\n",
       " 'Gilbert',\n",
       " nan,\n",
       " 'Cooper',\n",
       " 'Milo',\n",
       " 'Meyer',\n",
       " 'Malcolm',\n",
       " 'Arnie',\n",
       " 'Zoe',\n",
       " nan,\n",
       " 'Stewie',\n",
       " 'Calvin',\n",
       " 'Lilah',\n",
       " 'Spanky',\n",
       " nan,\n",
       " 'Jameson',\n",
       " 'Beau',\n",
       " 'Jax',\n",
       " 'Piper',\n",
       " 'Bo',\n",
       " 'Atticus',\n",
       " 'Lucy',\n",
       " 'Finn',\n",
       " nan,\n",
       " 'George',\n",
       " 'Blu',\n",
       " 'Winston',\n",
       " 'Dietrich',\n",
       " 'not',\n",
       " 'Divine',\n",
       " nan,\n",
       " 'Tripp',\n",
       " 'his',\n",
       " 'one',\n",
       " 'Cora',\n",
       " nan,\n",
       " 'Duke',\n",
       " nan,\n",
       " nan,\n",
       " nan,\n",
       " 'a',\n",
       " 'Huxley',\n",
       " 'a',\n",
       " 'Bookstore',\n",
       " nan,\n",
       " nan,\n",
       " nan,\n",
       " 'Atticus',\n",
       " 'Clark',\n",
       " nan,\n",
       " 'a',\n",
       " nan,\n",
       " 'Abby',\n",
       " 'Shiloh',\n",
       " 'an',\n",
       " 'Gustav',\n",
       " 'Arlen',\n",
       " 'Gus',\n",
       " 'Percy',\n",
       " 'Lenox',\n",
       " 'very',\n",
       " 'Sugar',\n",
       " 'Oliver',\n",
       " 'Abby',\n",
       " 'Indie',\n",
       " 'Harvey',\n",
       " 'Blanket',\n",
       " nan,\n",
       " 'Geno',\n",
       " nan,\n",
       " 'Stark',\n",
       " 'Harold',\n",
       " 'Bentley',\n",
       " 'Beya',\n",
       " 'Kilo',\n",
       " 'a',\n",
       " 'Kayla',\n",
       " 'Maxaroni',\n",
       " nan,\n",
       " 'Bell',\n",
       " 'Phil',\n",
       " 'Doug',\n",
       " 'Edmund',\n",
       " nan,\n",
       " 'Aqua',\n",
       " 'Tucker',\n",
       " 'Theodore',\n",
       " 'just',\n",
       " 'Leo',\n",
       " nan,\n",
       " 'Chip',\n",
       " 'Baloo',\n",
       " nan,\n",
       " nan,\n",
       " 'Chase',\n",
       " 'getting',\n",
       " 'Nollie',\n",
       " 'Rorie',\n",
       " 'Simba',\n",
       " 'Benji',\n",
       " nan,\n",
       " 'Kyle',\n",
       " nan,\n",
       " 'Charles',\n",
       " nan,\n",
       " 'Bayley',\n",
       " nan,\n",
       " nan,\n",
       " 'Axel',\n",
       " 'Storkson',\n",
       " 'Remy',\n",
       " 'Bella',\n",
       " nan,\n",
       " nan,\n",
       " 'Lily',\n",
       " nan,\n",
       " 'Chadrick',\n",
       " 'Rory',\n",
       " 'very',\n",
       " nan,\n",
       " 'Maxaroni',\n",
       " nan,\n",
       " 'Dakota',\n",
       " nan,\n",
       " 'Kellogg',\n",
       " 'Buckley',\n",
       " 'Jax',\n",
       " nan,\n",
       " 'Livvie',\n",
       " 'Terry',\n",
       " 'Moose',\n",
       " nan,\n",
       " 'Hermione',\n",
       " nan,\n",
       " 'Ralpher',\n",
       " 'Aldrick',\n",
       " nan,\n",
       " 'Kyle',\n",
       " 'Larry',\n",
       " 'Solomon',\n",
       " 'this',\n",
       " 'unacceptable',\n",
       " 'Rooney',\n",
       " 'Crystal',\n",
       " 'Ziva',\n",
       " 'Charles',\n",
       " 'Ollie',\n",
       " 'Stefan',\n",
       " 'Pupcasso',\n",
       " nan,\n",
       " 'Puff',\n",
       " nan,\n",
       " 'Flurpson',\n",
       " 'Coleman',\n",
       " 'Wallace',\n",
       " 'Enchilada',\n",
       " 'Raymond',\n",
       " 'all',\n",
       " 'Rueben',\n",
       " 'Cilantro',\n",
       " nan,\n",
       " nan,\n",
       " nan,\n",
       " nan,\n",
       " 'Karll',\n",
       " 'Sprout',\n",
       " 'Blitz',\n",
       " 'Bloop',\n",
       " nan,\n",
       " 'Colby',\n",
       " 'Lillie',\n",
       " 'Lola',\n",
       " 'Fred',\n",
       " nan,\n",
       " 'Ashleigh',\n",
       " 'Kreggory',\n",
       " 'Sarge',\n",
       " 'Luther',\n",
       " 'Sugar',\n",
       " 'Reginald',\n",
       " 'Ivar',\n",
       " 'Jangle',\n",
       " nan,\n",
       " 'Schnitzel',\n",
       " 'Panda',\n",
       " 'Oliver',\n",
       " 'Archie',\n",
       " 'Berkeley',\n",
       " nan,\n",
       " 'Ralphé',\n",
       " 'Derek',\n",
       " 'Charleson',\n",
       " 'Neptune',\n",
       " nan,\n",
       " 'Clyde',\n",
       " 'Harnold',\n",
       " 'Sid',\n",
       " 'Lucy',\n",
       " 'Pippa',\n",
       " 'Sadie',\n",
       " 'Otis',\n",
       " nan,\n",
       " 'Carper',\n",
       " nan,\n",
       " 'Bowie',\n",
       " nan,\n",
       " 'Alexanderson',\n",
       " 'Suki',\n",
       " 'Barclay',\n",
       " nan,\n",
       " 'a',\n",
       " 'Ebby',\n",
       " 'Flávio',\n",
       " 'Smokey',\n",
       " 'Link',\n",
       " 'Jennifur',\n",
       " 'Bluebert',\n",
       " 'Stephanus',\n",
       " nan,\n",
       " 'Bubbles',\n",
       " 'a',\n",
       " 'Toby',\n",
       " 'Zeus',\n",
       " 'Bertson',\n",
       " 'Oscar',\n",
       " 'Nico',\n",
       " 'Michelangelope',\n",
       " 'Siba',\n",
       " 'Calbert',\n",
       " 'Curtis',\n",
       " 'Benedict',\n",
       " nan,\n",
       " 'Travis',\n",
       " 'Thumas',\n",
       " nan,\n",
       " nan,\n",
       " 'Kanu',\n",
       " nan,\n",
       " 'Piper',\n",
       " nan,\n",
       " 'Lance',\n",
       " 'Opie',\n",
       " 'Stubert',\n",
       " nan,\n",
       " 'Sunny',\n",
       " 'Kane',\n",
       " nan,\n",
       " 'Steven',\n",
       " 'Olive',\n",
       " 'Chester',\n",
       " 'Winston',\n",
       " 'Roosevelt',\n",
       " nan,\n",
       " nan,\n",
       " 'Gary',\n",
       " nan,\n",
       " nan,\n",
       " 'Chuckles',\n",
       " 'Milo',\n",
       " 'Staniel',\n",
       " 'Sora',\n",
       " nan,\n",
       " 'Beemo',\n",
       " 'Gunner',\n",
       " 'infuriating',\n",
       " nan,\n",
       " 'Lacy',\n",
       " 'Tater',\n",
       " nan,\n",
       " 'Watson',\n",
       " nan,\n",
       " nan,\n",
       " 'Olaf',\n",
       " 'Cecil',\n",
       " 'Vince',\n",
       " 'Karma',\n",
       " 'Billy',\n",
       " 'Walker',\n",
       " 'Penny',\n",
       " nan,\n",
       " 'Rodney',\n",
       " 'Klevin',\n",
       " nan,\n",
       " 'Malikai',\n",
       " 'Mister',\n",
       " 'Coco',\n",
       " 'Smokey',\n",
       " 'Bear',\n",
       " 'Bobble',\n",
       " 'Oliver',\n",
       " 'River',\n",
       " 'Jebberson',\n",
       " nan,\n",
       " 'Cooper',\n",
       " 'Remington',\n",
       " nan,\n",
       " 'Farfle',\n",
       " 'Rufus',\n",
       " 'Sadie',\n",
       " nan,\n",
       " 'Jiminus',\n",
       " 'Harper',\n",
       " 'Keurig',\n",
       " nan,\n",
       " ...]"
      ]
     },
     "execution_count": 18,
     "metadata": {},
     "output_type": "execute_result"
    }
   ],
   "source": [
    "list(df_clean['name'])"
   ]
  },
  {
   "cell_type": "markdown",
   "metadata": {},
   "source": [
    "### Ratings: Fixing Denominators and Numerators\n"
   ]
  },
  {
   "cell_type": "markdown",
   "metadata": {},
   "source": [
    "#### Use RegEx to properly extract ratings with decimal values."
   ]
  },
  {
   "cell_type": "code",
   "execution_count": 19,
   "metadata": {},
   "outputs": [
    {
     "data": {
      "text/plain": [
       "0       13.0\n",
       "1       13.0\n",
       "2       12.0\n",
       "3       13.0\n",
       "4       12.0\n",
       "        ... \n",
       "2054     5.0\n",
       "2055     6.0\n",
       "2056     9.0\n",
       "2057     7.0\n",
       "2058     8.0\n",
       "Name: rating_numerator, Length: 1964, dtype: float64"
      ]
     },
     "execution_count": 19,
     "metadata": {},
     "output_type": "execute_result"
    }
   ],
   "source": [
    "ratings = df_clean.text.str.extract('((?:\\d+\\.)?\\d+)\\/(\\d+)', expand=True)\n",
    "df_clean.rating_numerator = ratings\n",
    "df_clean.rating_numerator = df_clean.rating_numerator.astype('float')\n",
    "df_clean.rating_numerator"
   ]
  },
  {
   "cell_type": "markdown",
   "metadata": {},
   "source": [
    "In the cell below, we will check how many ratings have a denominator other than 10. All denominators should be 10 and other values should be dealt with."
   ]
  },
  {
   "cell_type": "code",
   "execution_count": 20,
   "metadata": {},
   "outputs": [
    {
     "data": {
      "text/plain": [
       "17"
      ]
     },
     "execution_count": 20,
     "metadata": {},
     "output_type": "execute_result"
    }
   ],
   "source": [
    "(df_clean.rating_denominator != 10).sum()"
   ]
  },
  {
   "cell_type": "code",
   "execution_count": 21,
   "metadata": {},
   "outputs": [
    {
     "data": {
      "text/plain": [
       "10    1947\n",
       "Name: rating_denominator, dtype: int64"
      ]
     },
     "execution_count": 21,
     "metadata": {},
     "output_type": "execute_result"
    }
   ],
   "source": [
    "# Drop all rows with denominators that are not equal to 10.\n",
    "df_clean.drop(df_clean[df_clean.rating_denominator != 10].index, inplace=True)\n",
    "\n",
    "# Testing\n",
    "df_clean.rating_denominator.value_counts()"
   ]
  },
  {
   "cell_type": "code",
   "execution_count": 22,
   "metadata": {},
   "outputs": [
    {
     "data": {
      "text/plain": [
       "12.00      444\n",
       "10.00      416\n",
       "11.00      392\n",
       "13.00      249\n",
       "9.00       149\n",
       "8.00        95\n",
       "7.00        51\n",
       "14.00       33\n",
       "5.00        32\n",
       "6.00        32\n",
       "3.00        19\n",
       "4.00        15\n",
       "2.00         9\n",
       "1.00         4\n",
       "1776.00      1\n",
       "9.75         1\n",
       "0.00         1\n",
       "13.50        1\n",
       "11.26        1\n",
       "11.27        1\n",
       "420.00       1\n",
       "Name: rating_numerator, dtype: int64"
      ]
     },
     "execution_count": 22,
     "metadata": {},
     "output_type": "execute_result"
    }
   ],
   "source": [
    "df_clean.rating_numerator.value_counts()"
   ]
  },
  {
   "cell_type": "code",
   "execution_count": 23,
   "metadata": {},
   "outputs": [
    {
     "data": {
      "text/plain": [
       "12.00    444\n",
       "10.00    416\n",
       "11.00    392\n",
       "13.00    249\n",
       "9.00     149\n",
       "8.00      95\n",
       "7.00      51\n",
       "14.00     33\n",
       "6.00      32\n",
       "5.00      32\n",
       "3.00      19\n",
       "4.00      15\n",
       "2.00       9\n",
       "1.00       4\n",
       "9.75       1\n",
       "0.00       1\n",
       "11.26      1\n",
       "13.50      1\n",
       "11.27      1\n",
       "Name: rating_numerator, dtype: int64"
      ]
     },
     "execution_count": 23,
     "metadata": {},
     "output_type": "execute_result"
    }
   ],
   "source": [
    "df_clean.drop(df_clean[df_clean.rating_numerator >= 15].index, inplace=True)\n",
    "df_clean.rating_numerator.value_counts()"
   ]
  },
  {
   "cell_type": "markdown",
   "metadata": {},
   "source": [
    "Denominator Column is dropped below since the denominator should always be 10, and \"rating_numerator\" column is renamed to \"rating\"."
   ]
  },
  {
   "cell_type": "code",
   "execution_count": 24,
   "metadata": {},
   "outputs": [
    {
     "data": {
      "text/html": [
       "<div>\n",
       "<style scoped>\n",
       "    .dataframe tbody tr th:only-of-type {\n",
       "        vertical-align: middle;\n",
       "    }\n",
       "\n",
       "    .dataframe tbody tr th {\n",
       "        vertical-align: top;\n",
       "    }\n",
       "\n",
       "    .dataframe thead th {\n",
       "        text-align: right;\n",
       "    }\n",
       "</style>\n",
       "<table border=\"1\" class=\"dataframe\">\n",
       "  <thead>\n",
       "    <tr style=\"text-align: right;\">\n",
       "      <th></th>\n",
       "      <th>tweet_id</th>\n",
       "      <th>timestamp</th>\n",
       "      <th>source</th>\n",
       "      <th>text</th>\n",
       "      <th>rating</th>\n",
       "      <th>name</th>\n",
       "      <th>doggo</th>\n",
       "      <th>floofer</th>\n",
       "      <th>pupper</th>\n",
       "      <th>puppo</th>\n",
       "      <th>...</th>\n",
       "      <th>p1_dog</th>\n",
       "      <th>p2</th>\n",
       "      <th>p2_conf</th>\n",
       "      <th>p2_dog</th>\n",
       "      <th>p3</th>\n",
       "      <th>p3_conf</th>\n",
       "      <th>p3_dog</th>\n",
       "      <th>id</th>\n",
       "      <th>retweet_count</th>\n",
       "      <th>favorite_count</th>\n",
       "    </tr>\n",
       "  </thead>\n",
       "  <tbody>\n",
       "    <tr>\n",
       "      <th>0</th>\n",
       "      <td>892420643555336193</td>\n",
       "      <td>2017-08-01 16:23:56 +0000</td>\n",
       "      <td>&lt;a href=\"http://twitter.com/download/iphone\" r...</td>\n",
       "      <td>This is Phineas. He's a mystical boy. Only eve...</td>\n",
       "      <td>13.0</td>\n",
       "      <td>Phineas</td>\n",
       "      <td>NaN</td>\n",
       "      <td>NaN</td>\n",
       "      <td>NaN</td>\n",
       "      <td>NaN</td>\n",
       "      <td>...</td>\n",
       "      <td>False</td>\n",
       "      <td>bagel</td>\n",
       "      <td>0.085851</td>\n",
       "      <td>False</td>\n",
       "      <td>banana</td>\n",
       "      <td>0.07611</td>\n",
       "      <td>False</td>\n",
       "      <td>892420643555336193</td>\n",
       "      <td>7340</td>\n",
       "      <td>34977</td>\n",
       "    </tr>\n",
       "  </tbody>\n",
       "</table>\n",
       "<p>1 rows × 22 columns</p>\n",
       "</div>"
      ],
      "text/plain": [
       "             tweet_id                  timestamp  \\\n",
       "0  892420643555336193  2017-08-01 16:23:56 +0000   \n",
       "\n",
       "                                              source  \\\n",
       "0  <a href=\"http://twitter.com/download/iphone\" r...   \n",
       "\n",
       "                                                text  rating     name doggo  \\\n",
       "0  This is Phineas. He's a mystical boy. Only eve...    13.0  Phineas   NaN   \n",
       "\n",
       "  floofer pupper puppo  ... p1_dog     p2   p2_conf p2_dog      p3  p3_conf  \\\n",
       "0     NaN    NaN   NaN  ...  False  bagel  0.085851  False  banana  0.07611   \n",
       "\n",
       "  p3_dog                  id  retweet_count  favorite_count  \n",
       "0  False  892420643555336193           7340           34977  \n",
       "\n",
       "[1 rows x 22 columns]"
      ]
     },
     "execution_count": 24,
     "metadata": {},
     "output_type": "execute_result"
    }
   ],
   "source": [
    "df_clean = df_clean.drop(columns='rating_denominator') # Drop Denominator Column since all denominators should be 10.\n",
    "df_clean = df_clean.rename(columns={'rating_numerator' : 'rating'}) # Rename Numerator Column to 'rating'.\n",
    "df_clean.head(1)"
   ]
  },
  {
   "cell_type": "markdown",
   "metadata": {},
   "source": [
    "Strip out the extra \"+0000\" in the Timestamp features, and convert the datatype to Pandas Date-Time Format."
   ]
  },
  {
   "cell_type": "code",
   "execution_count": 25,
   "metadata": {},
   "outputs": [
    {
     "data": {
      "text/html": [
       "<div>\n",
       "<style scoped>\n",
       "    .dataframe tbody tr th:only-of-type {\n",
       "        vertical-align: middle;\n",
       "    }\n",
       "\n",
       "    .dataframe tbody tr th {\n",
       "        vertical-align: top;\n",
       "    }\n",
       "\n",
       "    .dataframe thead th {\n",
       "        text-align: right;\n",
       "    }\n",
       "</style>\n",
       "<table border=\"1\" class=\"dataframe\">\n",
       "  <thead>\n",
       "    <tr style=\"text-align: right;\">\n",
       "      <th></th>\n",
       "      <th>tweet_id</th>\n",
       "      <th>timestamp</th>\n",
       "      <th>source</th>\n",
       "      <th>text</th>\n",
       "      <th>rating</th>\n",
       "      <th>name</th>\n",
       "      <th>doggo</th>\n",
       "      <th>floofer</th>\n",
       "      <th>pupper</th>\n",
       "      <th>puppo</th>\n",
       "      <th>...</th>\n",
       "      <th>p1_dog</th>\n",
       "      <th>p2</th>\n",
       "      <th>p2_conf</th>\n",
       "      <th>p2_dog</th>\n",
       "      <th>p3</th>\n",
       "      <th>p3_conf</th>\n",
       "      <th>p3_dog</th>\n",
       "      <th>id</th>\n",
       "      <th>retweet_count</th>\n",
       "      <th>favorite_count</th>\n",
       "    </tr>\n",
       "  </thead>\n",
       "  <tbody>\n",
       "    <tr>\n",
       "      <th>0</th>\n",
       "      <td>892420643555336193</td>\n",
       "      <td>2017-08-01 16:23:56</td>\n",
       "      <td>&lt;a href=\"http://twitter.com/download/iphone\" r...</td>\n",
       "      <td>This is Phineas. He's a mystical boy. Only eve...</td>\n",
       "      <td>13.0</td>\n",
       "      <td>Phineas</td>\n",
       "      <td>NaN</td>\n",
       "      <td>NaN</td>\n",
       "      <td>NaN</td>\n",
       "      <td>NaN</td>\n",
       "      <td>...</td>\n",
       "      <td>False</td>\n",
       "      <td>bagel</td>\n",
       "      <td>0.085851</td>\n",
       "      <td>False</td>\n",
       "      <td>banana</td>\n",
       "      <td>0.07611</td>\n",
       "      <td>False</td>\n",
       "      <td>892420643555336193</td>\n",
       "      <td>7340</td>\n",
       "      <td>34977</td>\n",
       "    </tr>\n",
       "  </tbody>\n",
       "</table>\n",
       "<p>1 rows × 22 columns</p>\n",
       "</div>"
      ],
      "text/plain": [
       "             tweet_id           timestamp  \\\n",
       "0  892420643555336193 2017-08-01 16:23:56   \n",
       "\n",
       "                                              source  \\\n",
       "0  <a href=\"http://twitter.com/download/iphone\" r...   \n",
       "\n",
       "                                                text  rating     name doggo  \\\n",
       "0  This is Phineas. He's a mystical boy. Only eve...    13.0  Phineas   NaN   \n",
       "\n",
       "  floofer pupper puppo  ... p1_dog     p2   p2_conf p2_dog      p3  p3_conf  \\\n",
       "0     NaN    NaN   NaN  ...  False  bagel  0.085851  False  banana  0.07611   \n",
       "\n",
       "  p3_dog                  id  retweet_count  favorite_count  \n",
       "0  False  892420643555336193           7340           34977  \n",
       "\n",
       "[1 rows x 22 columns]"
      ]
     },
     "execution_count": 25,
     "metadata": {},
     "output_type": "execute_result"
    }
   ],
   "source": [
    "df_clean.timestamp = df_archive_c.timestamp.str.strip('+0000')\n",
    "df_clean.timestamp = pd.to_datetime(df_clean.timestamp)\n",
    "df_clean.head(1)"
   ]
  },
  {
   "cell_type": "markdown",
   "metadata": {},
   "source": [
    "## RegEx to remove Tags"
   ]
  },
  {
   "cell_type": "code",
   "execution_count": 26,
   "metadata": {},
   "outputs": [
    {
     "data": {
      "text/plain": [
       "0       <a href=\"http://twitter.com/download/iphone\" r...\n",
       "1       <a href=\"http://twitter.com/download/iphone\" r...\n",
       "2       <a href=\"http://twitter.com/download/iphone\" r...\n",
       "3       <a href=\"http://twitter.com/download/iphone\" r...\n",
       "4       <a href=\"http://twitter.com/download/iphone\" r...\n",
       "                              ...                        \n",
       "2054    <a href=\"http://twitter.com/download/iphone\" r...\n",
       "2055    <a href=\"http://twitter.com/download/iphone\" r...\n",
       "2056    <a href=\"http://twitter.com/download/iphone\" r...\n",
       "2057    <a href=\"http://twitter.com/download/iphone\" r...\n",
       "2058    <a href=\"http://twitter.com/download/iphone\" r...\n",
       "Name: source, Length: 1945, dtype: object"
      ]
     },
     "execution_count": 26,
     "metadata": {},
     "output_type": "execute_result"
    }
   ],
   "source": [
    "df_clean['source']"
   ]
  },
  {
   "cell_type": "code",
   "execution_count": 27,
   "metadata": {},
   "outputs": [],
   "source": [
    "import re\n",
    "\n",
    "def remove_html_tags(text):\n",
    "    \"\"\"Remove html tags from a string\"\"\"\n",
    "    clean = re.compile('<.*?>')\n",
    "    return re.sub(clean, '', text['source'])\n",
    "\n",
    "\n",
    "df_clean['source'] = df_clean.apply(remove_html_tags, axis=1)"
   ]
  },
  {
   "cell_type": "code",
   "execution_count": 28,
   "metadata": {},
   "outputs": [
    {
     "data": {
      "text/plain": [
       "0       Twitter for iPhone\n",
       "1       Twitter for iPhone\n",
       "2       Twitter for iPhone\n",
       "3       Twitter for iPhone\n",
       "4       Twitter for iPhone\n",
       "               ...        \n",
       "2054    Twitter for iPhone\n",
       "2055    Twitter for iPhone\n",
       "2056    Twitter for iPhone\n",
       "2057    Twitter for iPhone\n",
       "2058    Twitter for iPhone\n",
       "Name: source, Length: 1945, dtype: object"
      ]
     },
     "execution_count": 28,
     "metadata": {},
     "output_type": "execute_result"
    }
   ],
   "source": [
    "# Test to check that Source column's HTML tags have been stripped.\n",
    "df_clean['source']"
   ]
  },
  {
   "cell_type": "code",
   "execution_count": 29,
   "metadata": {},
   "outputs": [
    {
     "name": "stdout",
     "output_type": "stream",
     "text": [
      "<class 'pandas.core.frame.DataFrame'>\n",
      "Int64Index: 1945 entries, 0 to 2058\n",
      "Data columns (total 22 columns):\n",
      " #   Column          Non-Null Count  Dtype         \n",
      "---  ------          --------------  -----         \n",
      " 0   tweet_id        1945 non-null   int64         \n",
      " 1   timestamp       1945 non-null   datetime64[ns]\n",
      " 2   source          1945 non-null   object        \n",
      " 3   text            1945 non-null   object        \n",
      " 4   rating          1945 non-null   float64       \n",
      " 5   name            1433 non-null   object        \n",
      " 6   doggo           72 non-null     object        \n",
      " 7   floofer         8 non-null      object        \n",
      " 8   pupper          209 non-null    object        \n",
      " 9   puppo           23 non-null     object        \n",
      " 10  p1              1945 non-null   object        \n",
      " 11  p1_conf         1945 non-null   float64       \n",
      " 12  p1_dog          1945 non-null   bool          \n",
      " 13  p2              1945 non-null   object        \n",
      " 14  p2_conf         1945 non-null   float64       \n",
      " 15  p2_dog          1945 non-null   bool          \n",
      " 16  p3              1945 non-null   object        \n",
      " 17  p3_conf         1945 non-null   float64       \n",
      " 18  p3_dog          1945 non-null   bool          \n",
      " 19  id              1945 non-null   int64         \n",
      " 20  retweet_count   1945 non-null   int64         \n",
      " 21  favorite_count  1945 non-null   int64         \n",
      "dtypes: bool(3), datetime64[ns](1), float64(4), int64(4), object(10)\n",
      "memory usage: 309.6+ KB\n"
     ]
    }
   ],
   "source": [
    "df_clean.info()"
   ]
  },
  {
   "cell_type": "markdown",
   "metadata": {},
   "source": [
    "### Dog Stages Combined into one Categorical variable"
   ]
  },
  {
   "cell_type": "markdown",
   "metadata": {},
   "source": [
    "There are cases where there are multiple dog stages in a row. In the cell below we find them."
   ]
  },
  {
   "cell_type": "code",
   "execution_count": 30,
   "metadata": {},
   "outputs": [],
   "source": [
    "df_clean.groupby([\"doggo\", \"floofer\", \"pupper\", \"puppo\"]).size().reset_index().rename(columns={0: \"count\"})\n",
    "\n",
    "df_clean.doggo.replace('None', '', inplace=True)\n",
    "df_clean.doggo.replace(np.NaN, '', inplace=True)\n",
    "\n",
    "df_clean.floofer.replace('None', '', inplace=True)\n",
    "df_clean.floofer.replace(np.NaN, '', inplace=True)\n",
    "\n",
    "df_clean.pupper.replace('None', '', inplace=True)\n",
    "df_clean.pupper.replace(np.NaN, '', inplace=True)\n",
    "\n",
    "df_clean.puppo.replace('None', '', inplace=True)\n",
    "df_clean.puppo.replace(np.NaN, '', inplace=True)"
   ]
  },
  {
   "cell_type": "code",
   "execution_count": 31,
   "metadata": {},
   "outputs": [],
   "source": [
    "df_clean['nickname'] = df_clean.doggo + df_clean.floofer + df_clean.pupper + df_clean.puppo\n",
    "df_clean.loc[df_clean.nickname == 'doggopupper', 'nickname'] = 'doggo, pupper'\n",
    "df_clean.loc[df_clean.nickname == 'doggopuppo', 'nickname'] = 'doggo, puppo'\n",
    "df_clean.loc[df_clean.nickname == 'doggofloofer', 'nickname'] = 'doggo, floofer'"
   ]
  },
  {
   "cell_type": "code",
   "execution_count": 32,
   "metadata": {},
   "outputs": [
    {
     "data": {
      "text/plain": [
       "                  1643\n",
       "pupper             201\n",
       "doggo               62\n",
       "puppo               22\n",
       "doggo, pupper        8\n",
       "floofer              7\n",
       "doggo, puppo         1\n",
       "doggo, floofer       1\n",
       "Name: nickname, dtype: int64"
      ]
     },
     "execution_count": 32,
     "metadata": {},
     "output_type": "execute_result"
    }
   ],
   "source": [
    "df_clean.drop(columns=['doggo','floofer','pupper','puppo'], inplace=True)\n",
    "df_clean['nickname'].replace('None', np.NaN, inplace=True)\n",
    "df_clean.nickname.value_counts()"
   ]
  },
  {
   "cell_type": "markdown",
   "metadata": {},
   "source": [
    "### Dog Breed Predictions: Take Prediction with Highest Confidence\n",
    "\n",
    "We can minimize the number of columns and take only the highest prediction.\n",
    "\n",
    "The following function will do this."
   ]
  },
  {
   "cell_type": "code",
   "execution_count": 33,
   "metadata": {},
   "outputs": [
    {
     "data": {
      "text/html": [
       "<div>\n",
       "<style scoped>\n",
       "    .dataframe tbody tr th:only-of-type {\n",
       "        vertical-align: middle;\n",
       "    }\n",
       "\n",
       "    .dataframe tbody tr th {\n",
       "        vertical-align: top;\n",
       "    }\n",
       "\n",
       "    .dataframe thead th {\n",
       "        text-align: right;\n",
       "    }\n",
       "</style>\n",
       "<table border=\"1\" class=\"dataframe\">\n",
       "  <thead>\n",
       "    <tr style=\"text-align: right;\">\n",
       "      <th></th>\n",
       "      <th>tweet_id</th>\n",
       "      <th>timestamp</th>\n",
       "      <th>source</th>\n",
       "      <th>text</th>\n",
       "      <th>rating</th>\n",
       "      <th>name</th>\n",
       "      <th>id</th>\n",
       "      <th>retweet_count</th>\n",
       "      <th>favorite_count</th>\n",
       "      <th>nickname</th>\n",
       "      <th>breed</th>\n",
       "    </tr>\n",
       "  </thead>\n",
       "  <tbody>\n",
       "    <tr>\n",
       "      <th>0</th>\n",
       "      <td>892420643555336193</td>\n",
       "      <td>2017-08-01 16:23:56</td>\n",
       "      <td>Twitter for iPhone</td>\n",
       "      <td>This is Phineas. He's a mystical boy. Only eve...</td>\n",
       "      <td>13.0</td>\n",
       "      <td>Phineas</td>\n",
       "      <td>892420643555336193</td>\n",
       "      <td>7340</td>\n",
       "      <td>34977</td>\n",
       "      <td></td>\n",
       "      <td>NaN</td>\n",
       "    </tr>\n",
       "    <tr>\n",
       "      <th>1</th>\n",
       "      <td>892177421306343426</td>\n",
       "      <td>2017-08-01 00:17:27</td>\n",
       "      <td>Twitter for iPhone</td>\n",
       "      <td>This is Tilly. She's just checking pup on you....</td>\n",
       "      <td>13.0</td>\n",
       "      <td>Tilly</td>\n",
       "      <td>892177421306343426</td>\n",
       "      <td>5475</td>\n",
       "      <td>30287</td>\n",
       "      <td></td>\n",
       "      <td>Chihuahua</td>\n",
       "    </tr>\n",
       "    <tr>\n",
       "      <th>2</th>\n",
       "      <td>891815181378084864</td>\n",
       "      <td>2017-07-31 00:18:03</td>\n",
       "      <td>Twitter for iPhone</td>\n",
       "      <td>This is Archie. He is a rare Norwegian Pouncin...</td>\n",
       "      <td>12.0</td>\n",
       "      <td>Archie</td>\n",
       "      <td>891815181378084864</td>\n",
       "      <td>3621</td>\n",
       "      <td>22786</td>\n",
       "      <td></td>\n",
       "      <td>Chihuahua</td>\n",
       "    </tr>\n",
       "    <tr>\n",
       "      <th>3</th>\n",
       "      <td>891689557279858688</td>\n",
       "      <td>2017-07-30 15:58:51</td>\n",
       "      <td>Twitter for iPhone</td>\n",
       "      <td>This is Darla. She commenced a snooze mid meal...</td>\n",
       "      <td>13.0</td>\n",
       "      <td>Darla</td>\n",
       "      <td>891689557279858688</td>\n",
       "      <td>7529</td>\n",
       "      <td>38245</td>\n",
       "      <td></td>\n",
       "      <td>Labrador_retriever</td>\n",
       "    </tr>\n",
       "    <tr>\n",
       "      <th>4</th>\n",
       "      <td>891327558926688256</td>\n",
       "      <td>2017-07-29 16:00:24</td>\n",
       "      <td>Twitter for iPhone</td>\n",
       "      <td>This is Franklin. He would like you to stop ca...</td>\n",
       "      <td>12.0</td>\n",
       "      <td>Franklin</td>\n",
       "      <td>891327558926688256</td>\n",
       "      <td>8109</td>\n",
       "      <td>36524</td>\n",
       "      <td></td>\n",
       "      <td>basset</td>\n",
       "    </tr>\n",
       "  </tbody>\n",
       "</table>\n",
       "</div>"
      ],
      "text/plain": [
       "             tweet_id           timestamp              source  \\\n",
       "0  892420643555336193 2017-08-01 16:23:56  Twitter for iPhone   \n",
       "1  892177421306343426 2017-08-01 00:17:27  Twitter for iPhone   \n",
       "2  891815181378084864 2017-07-31 00:18:03  Twitter for iPhone   \n",
       "3  891689557279858688 2017-07-30 15:58:51  Twitter for iPhone   \n",
       "4  891327558926688256 2017-07-29 16:00:24  Twitter for iPhone   \n",
       "\n",
       "                                                text  rating      name  \\\n",
       "0  This is Phineas. He's a mystical boy. Only eve...    13.0   Phineas   \n",
       "1  This is Tilly. She's just checking pup on you....    13.0     Tilly   \n",
       "2  This is Archie. He is a rare Norwegian Pouncin...    12.0    Archie   \n",
       "3  This is Darla. She commenced a snooze mid meal...    13.0     Darla   \n",
       "4  This is Franklin. He would like you to stop ca...    12.0  Franklin   \n",
       "\n",
       "                   id  retweet_count  favorite_count nickname  \\\n",
       "0  892420643555336193           7340           34977            \n",
       "1  892177421306343426           5475           30287            \n",
       "2  891815181378084864           3621           22786            \n",
       "3  891689557279858688           7529           38245            \n",
       "4  891327558926688256           8109           36524            \n",
       "\n",
       "                breed  \n",
       "0                 NaN  \n",
       "1           Chihuahua  \n",
       "2           Chihuahua  \n",
       "3  Labrador_retriever  \n",
       "4              basset  "
      ]
     },
     "execution_count": 33,
     "metadata": {},
     "output_type": "execute_result"
    }
   ],
   "source": [
    "def dog_breed(obs):\n",
    "    if obs['p1_dog']:\n",
    "        return obs['p1']\n",
    "    elif obs['p2_dog']:\n",
    "        return obs['p2']\n",
    "    elif obs['p3_dog']:\n",
    "        return obs['p3']\n",
    "    else:\n",
    "        return np.nan\n",
    "\n",
    "df_clean['breed'] = df_clean.apply(dog_breed, axis=1)\n",
    "# Drop the extra columns\n",
    "\n",
    "df_clean = df_clean.drop(columns=['p1', 'p1_conf', 'p1_dog',\n",
    "                                 'p2', 'p2_conf', 'p2_dog',\n",
    "                                 'p3', 'p3_conf', 'p3_dog'])\n",
    "\n",
    "df_clean.breed = df_clean['breed'].astype('category')\n",
    "\n",
    "df_clean.head()"
   ]
  },
  {
   "cell_type": "markdown",
   "metadata": {},
   "source": [
    "<a id='eda'></a>\n",
    "# Storing, Analyzing, and Visualizing"
   ]
  },
  {
   "cell_type": "code",
   "execution_count": 34,
   "metadata": {},
   "outputs": [],
   "source": [
    "df_clean.to_csv('twitter-archive-master.csv', index=False)"
   ]
  },
  {
   "cell_type": "code",
   "execution_count": 35,
   "metadata": {},
   "outputs": [
    {
     "data": {
      "text/html": [
       "<div>\n",
       "<style scoped>\n",
       "    .dataframe tbody tr th:only-of-type {\n",
       "        vertical-align: middle;\n",
       "    }\n",
       "\n",
       "    .dataframe tbody tr th {\n",
       "        vertical-align: top;\n",
       "    }\n",
       "\n",
       "    .dataframe thead th {\n",
       "        text-align: right;\n",
       "    }\n",
       "</style>\n",
       "<table border=\"1\" class=\"dataframe\">\n",
       "  <thead>\n",
       "    <tr style=\"text-align: right;\">\n",
       "      <th></th>\n",
       "      <th>tweet_id</th>\n",
       "      <th>timestamp</th>\n",
       "      <th>source</th>\n",
       "      <th>text</th>\n",
       "      <th>rating</th>\n",
       "      <th>name</th>\n",
       "      <th>id</th>\n",
       "      <th>retweet_count</th>\n",
       "      <th>favorite_count</th>\n",
       "      <th>nickname</th>\n",
       "      <th>breed</th>\n",
       "    </tr>\n",
       "  </thead>\n",
       "  <tbody>\n",
       "    <tr>\n",
       "      <th>0</th>\n",
       "      <td>892420643555336193</td>\n",
       "      <td>2017-08-01 16:23:56</td>\n",
       "      <td>Twitter for iPhone</td>\n",
       "      <td>This is Phineas. He's a mystical boy. Only eve...</td>\n",
       "      <td>13.0</td>\n",
       "      <td>Phineas</td>\n",
       "      <td>892420643555336193</td>\n",
       "      <td>7340</td>\n",
       "      <td>34977</td>\n",
       "      <td>NaN</td>\n",
       "      <td>NaN</td>\n",
       "    </tr>\n",
       "  </tbody>\n",
       "</table>\n",
       "</div>"
      ],
      "text/plain": [
       "             tweet_id            timestamp              source  \\\n",
       "0  892420643555336193  2017-08-01 16:23:56  Twitter for iPhone   \n",
       "\n",
       "                                                text  rating     name  \\\n",
       "0  This is Phineas. He's a mystical boy. Only eve...    13.0  Phineas   \n",
       "\n",
       "                   id  retweet_count  favorite_count nickname breed  \n",
       "0  892420643555336193           7340           34977      NaN   NaN  "
      ]
     },
     "execution_count": 35,
     "metadata": {},
     "output_type": "execute_result"
    }
   ],
   "source": [
    "df2 = pd.read_csv('twitter-archive-master.csv')\n",
    "df2.head(1)"
   ]
  },
  {
   "cell_type": "code",
   "execution_count": 36,
   "metadata": {},
   "outputs": [
    {
     "data": {
      "image/png": "[encoded data removed]",
      "text/plain": [
       "<Figure size 720x720 with 6 Axes>"
      ]
     },
     "metadata": {},
     "output_type": "display_data"
    }
   ],
   "source": [
    "#df_clean.hist(figsize=(10,10), xrot=25);\n",
    "sns.set(style=\"whitegrid\", context=\"notebook\", font='DeJavu Sans')\n",
    "df_clean.hist(figsize=(10,10), xrot=25);"
   ]
  },
  {
   "cell_type": "markdown",
   "metadata": {},
   "source": [
    "### Which dogs breeds were the most tweeted about?"
   ]
  },
  {
   "cell_type": "code",
   "execution_count": 37,
   "metadata": {},
   "outputs": [
    {
     "data": {
      "text/plain": [
       "golden_retriever      153\n",
       "Labrador_retriever    101\n",
       "Pembroke               94\n",
       "Chihuahua              89\n",
       "pug                    62\n",
       "Name: breed, dtype: int64"
      ]
     },
     "execution_count": 37,
     "metadata": {},
     "output_type": "execute_result"
    }
   ],
   "source": [
    "df_clean['breed'].value_counts()[0:5]"
   ]
  },
  {
   "cell_type": "code",
   "execution_count": 38,
   "metadata": {},
   "outputs": [
    {
     "data": {
      "image/png": "[encoded data removed]",
      "text/plain": [
       "<Figure size 720x360 with 1 Axes>"
      ]
     },
     "metadata": {},
     "output_type": "display_data"
    }
   ],
   "source": [
    "#pd.unique(df_clean['breed'])\n",
    "plt.figure(figsize=(10,5))\n",
    "#breed_count = df_clean.breed.value_counts()\n",
    "\n",
    "sns.countplot(y='breed'[0:5], data=df_clean, palette='Greens_d', order=df_clean.breed.value_counts().iloc[0:5].index)\n",
    "plt.title(\"Most Tweeted About Breeds\", size=20)\n",
    "plt.xlabel(\"Count\")\n",
    "plt.ylabel(\"Breed\");"
   ]
  },
  {
   "cell_type": "markdown",
   "metadata": {},
   "source": [
    "### What is the average rating for all dogs?"
   ]
  },
  {
   "cell_type": "code",
   "execution_count": 39,
   "metadata": {},
   "outputs": [
    {
     "name": "stdout",
     "output_type": "stream",
     "text": [
      "Averge rating for all dogs is 10.536647814910024\n"
     ]
    }
   ],
   "source": [
    "print(\"Averge rating for all dogs is {}\".format(df_clean.rating.mean()))"
   ]
  },
  {
   "cell_type": "markdown",
   "metadata": {},
   "source": [
    "### Which breed were the \"Goodest\" dogs, on average?"
   ]
  },
  {
   "cell_type": "code",
   "execution_count": 40,
   "metadata": {},
   "outputs": [
    {
     "data": {
      "text/plain": [
       "breed\n",
       "Bouvier_des_Flandres           13.000000\n",
       "Saluki                         12.500000\n",
       "briard                         12.333333\n",
       "Tibetan_mastiff                12.250000\n",
       "Border_terrier                 12.142857\n",
       "                                 ...    \n",
       "Tibetan_terrier                 9.250000\n",
       "Walker_hound                    9.000000\n",
       "Scotch_terrier                  9.000000\n",
       "soft-coated_wheaten_terrier     8.166667\n",
       "Japanese_spaniel                5.000000\n",
       "Name: rating, Length: 113, dtype: float64"
      ]
     },
     "execution_count": 40,
     "metadata": {},
     "output_type": "execute_result"
    }
   ],
   "source": [
    "goodest_dogs = df_clean.groupby(['breed']).rating.mean()\n",
    "goodest_dogs.sort_values(ascending=False)"
   ]
  },
  {
   "cell_type": "markdown",
   "metadata": {},
   "source": [
    "### Which Breeds were the most retweeted?"
   ]
  },
  {
   "cell_type": "markdown",
   "metadata": {},
   "source": [
    "#### On Average"
   ]
  },
  {
   "cell_type": "code",
   "execution_count": 41,
   "metadata": {
    "scrolled": true
   },
   "outputs": [
    {
     "data": {
      "text/plain": [
       "breed\n",
       "Bedlington_terrier    7000.166667\n",
       "Afghan_hound          4986.666667\n",
       "standard_poodle       4680.000000\n",
       "French_bulldog        4603.666667\n",
       "English_springer      4588.800000\n",
       "                         ...     \n",
       "EntleBucher            586.000000\n",
       "Tibetan_terrier        465.250000\n",
       "Japanese_spaniel       378.000000\n",
       "Brabancon_griffon      242.333333\n",
       "groenendael            234.000000\n",
       "Name: retweet_count, Length: 113, dtype: float64"
      ]
     },
     "execution_count": 41,
     "metadata": {},
     "output_type": "execute_result"
    }
   ],
   "source": [
    "df_clean.groupby(['breed']).retweet_count.mean().sort_values(ascending=False)"
   ]
  },
  {
   "cell_type": "markdown",
   "metadata": {},
   "source": [
    "#### In Total"
   ]
  },
  {
   "cell_type": "code",
   "execution_count": 42,
   "metadata": {},
   "outputs": [
    {
     "data": {
      "text/plain": [
       "breed\n",
       "golden_retriever      483392\n",
       "Labrador_retriever    326875\n",
       "Pembroke              247279\n",
       "Chihuahua             204210\n",
       "Samoyed               162808\n",
       "                       ...  \n",
       "Brabancon_griffon        727\n",
       "Irish_wolfhound          692\n",
       "EntleBucher              586\n",
       "groenendael              468\n",
       "Japanese_spaniel         378\n",
       "Name: retweet_count, Length: 113, dtype: int64"
      ]
     },
     "execution_count": 42,
     "metadata": {},
     "output_type": "execute_result"
    }
   ],
   "source": [
    "df_clean.groupby(['breed']).retweet_count.sum().sort_values(ascending=False)\n",
    "\n",
    "# Keep in mind that Golden Retrievers were also the most tweeted about. \n",
    "# The data is skewed due to the number of tweets for each breed being different."
   ]
  },
  {
   "cell_type": "markdown",
   "metadata": {},
   "source": [
    "### How many Floofers, Doggos, Puppos and Puppers? "
   ]
  },
  {
   "cell_type": "code",
   "execution_count": 43,
   "metadata": {},
   "outputs": [
    {
     "data": {
      "image/png": "[encoded data removed]",
      "text/plain": [
       "<Figure size 720x360 with 1 Axes>"
      ]
     },
     "metadata": {},
     "output_type": "display_data"
    }
   ],
   "source": [
    "plt.figure(figsize=(10,5))\n",
    "nickname_count = df_clean.nickname.value_counts()\n",
    "sns.countplot(y='nickname', data=df_clean, palette='Greens_d', order=df_clean.nickname.value_counts().index)\n",
    "plt.title(\"Count of Dog Stages\")\n",
    "plt.xlabel(\"Count\")\n",
    "plt.ylabel(\"Nickname/Stage\");"
   ]
  },
  {
   "cell_type": "code",
   "execution_count": 50,
   "metadata": {},
   "outputs": [
    {
     "data": {
      "text/plain": [
       "                  1643\n",
       "pupper             201\n",
       "doggo               62\n",
       "puppo               22\n",
       "doggo, pupper        8\n",
       "floofer              7\n",
       "doggo, puppo         1\n",
       "doggo, floofer       1\n",
       "Name: nickname, dtype: int64"
      ]
     },
     "execution_count": 50,
     "metadata": {},
     "output_type": "execute_result"
    }
   ],
   "source": [
    "df_clean.nickname.value_counts()"
   ]
  },
  {
   "cell_type": "markdown",
   "metadata": {},
   "source": [
    "### What is the distribution of Ratings across the entire dataset?"
   ]
  },
  {
   "cell_type": "code",
   "execution_count": 44,
   "metadata": {},
   "outputs": [
    {
     "data": {
      "image/png": "[encoded data removed]",
      "text/plain": [
       "<Figure size 1080x432 with 1 Axes>"
      ]
     },
     "metadata": {},
     "output_type": "display_data"
    }
   ],
   "source": [
    "plt.figure(figsize=(15,6))\n",
    "sns.distplot(df_clean.rating)\n",
    "plt.title(\"Distribution of Ratings for All Dogs\", size=20)\n",
    "plt.xlabel(\"Rating\", size=15);"
   ]
  },
  {
   "cell_type": "markdown",
   "metadata": {},
   "source": [
    "### What is the distribution of Favorites and Retweets?"
   ]
  },
  {
   "cell_type": "code",
   "execution_count": 45,
   "metadata": {},
   "outputs": [
    {
     "data": {
      "image/png": "[encoded data removed]",
      "text/plain": [
       "<Figure size 720x360 with 1 Axes>"
      ]
     },
     "metadata": {},
     "output_type": "display_data"
    }
   ],
   "source": [
    "plt.figure(figsize=(10,5))\n",
    "sns.distplot(df_clean.favorite_count)\n",
    "plt.title(\"Favorite Count Distribution\", size=20);"
   ]
  },
  {
   "cell_type": "code",
   "execution_count": 46,
   "metadata": {},
   "outputs": [
    {
     "data": {
      "image/png": "[encoded data removed]",
      "text/plain": [
       "<Figure size 720x360 with 1 Axes>"
      ]
     },
     "metadata": {},
     "output_type": "display_data"
    }
   ],
   "source": [
    "plt.figure(figsize=(10,5))\n",
    "sns.distplot(df_clean.retweet_count)\n",
    "plt.title(\"Retweet Count Distribution\", size=20);"
   ]
  },
  {
   "cell_type": "code",
   "execution_count": 79,
   "metadata": {},
   "outputs": [
    {
     "data": {
      "text/plain": [
       "<Figure size 1080x576 with 0 Axes>"
      ]
     },
     "metadata": {},
     "output_type": "display_data"
    },
    {
     "data": {
      "image/png": "[encoded data removed]",
      "text/plain": [
       "<Figure size 720x720 with 3 Axes>"
      ]
     },
     "metadata": {},
     "output_type": "display_data"
    }
   ],
   "source": [
    "plt.figure(figsize=(15,8))\n",
    "sns.jointplot(x=df_clean.retweet_count,y=df_clean.favorite_count, height=10, kind='reg')\n",
    "plt.title(\"Joint Plot: Favorite vs Retweet Counts\", size=20, loc='center', pad=-20)\n",
    "plt.ylabel(\"Retweet Count\")\n",
    "plt.xlabel(\"Favorite Count\");"
   ]
  },
  {
   "cell_type": "code",
   "execution_count": 47,
   "metadata": {},
   "outputs": [
    {
     "data": {
      "image/png": "[encoded data removed]",
      "text/plain": [
       "<Figure size 1080x576 with 1 Axes>"
      ]
     },
     "metadata": {},
     "output_type": "display_data"
    }
   ],
   "source": [
    "plt.figure(figsize=(15,8))\n",
    "sns.regplot(x='favorite_count', y='retweet_count', data=df_clean)"
   ]
  },
  {
   "cell_type": "markdown",
   "metadata": {},
   "source": [
    "### Boxplot of Dog Ratings, for each Nickname/Stage"
   ]
  },
  {
   "cell_type": "code",
   "execution_count": 48,
   "metadata": {},
   "outputs": [
    {
     "data": {
      "image/png": "[encoded data removed]",
      "text/plain": [
       "<Figure size 1080x576 with 1 Axes>"
      ]
     },
     "metadata": {},
     "output_type": "display_data"
    }
   ],
   "source": [
    "plt.figure(figsize=(15,8))\n",
    "\n",
    "sns.swarmplot(x=\"nickname\", y=\"rating\", data=df_clean, size=8)\n",
    "sns.boxplot(x=\"nickname\", y=\"rating\", data=df_clean)\n",
    "\n",
    "plt.title(\"Nicknames/Stages vs Ratings\", size=20)\n",
    "plt.xlabel('Dog Stage', fontsize=20)\n",
    "plt.ylabel('Rating', fontsize=20);"
   ]
  },
  {
   "cell_type": "markdown",
   "metadata": {},
   "source": [
    "### Sources"
   ]
  },
  {
   "cell_type": "code",
   "execution_count": 49,
   "metadata": {},
   "outputs": [
    {
     "data": {
      "image/png": "[encoded data removed]",
      "text/plain": [
       "<Figure size 1080x576 with 1 Axes>"
      ]
     },
     "metadata": {},
     "output_type": "display_data"
    }
   ],
   "source": [
    "plt.figure(figsize=(15,8))\n",
    "df_clean.source.value_counts().plot(kind='pie')\n",
    "plt.title(\"Sources of User Activity\", size=20)\n",
    "plt.ylabel(\"\");"
   ]
  },
  {
   "cell_type": "markdown",
   "metadata": {},
   "source": [
    "<a id='limitations'></a>\n",
    "## Limitations\n",
    "The \"Enhanced Twitter Archive Dataset\" which contains the breeds of dogs, does not go beyond 2017. This extends beyond predicted breeds, to Dogs' Stages as well."
   ]
  }
 ],
 "metadata": {
  "kernelspec": {
   "display_name": "Main",
   "language": "python",
   "name": "main"
  },
  "language_info": {
   "codemirror_mode": {
    "name": "ipython",
    "version": 3
   },
   "file_extension": ".py",
   "mimetype": "text/x-python",
   "name": "python",
   "nbconvert_exporter": "python",
   "pygments_lexer": "ipython3",
   "version": "3.7.7"
  }
 },
 "nbformat": 4,
 "nbformat_minor": 4
}
